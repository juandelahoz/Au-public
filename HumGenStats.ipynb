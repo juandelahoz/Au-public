{
  "nbformat": 4,
  "nbformat_minor": 0,
  "metadata": {
    "colab": {
      "name": "HumGenStats.ipynb",
      "provenance": [],
      "collapsed_sections": [],
      "toc_visible": true,
      "include_colab_link": true
    },
    "kernelspec": {
      "name": "python3",
      "display_name": "Python 3"
    }
  },
  "cells": [
    {
      "cell_type": "markdown",
      "metadata": {
        "id": "view-in-github",
        "colab_type": "text"
      },
      "source": [
        "<a href=\"https://colab.research.google.com/github/juandelahoz/Au-public/blob/master/HumGenStats.ipynb\" target=\"_parent\"><img src=\"https://colab.research.google.com/assets/colab-badge.svg\" alt=\"Open In Colab\"/></a>"
      ]
    },
    {
      "cell_type": "markdown",
      "metadata": {
        "colab_type": "text",
        "id": "00QG7kQ65GJy"
      },
      "source": [
        "# Welcome\n",
        "\n",
        "Welcome to the Statistics bootcamp for Human Genetics.\n",
        "Your guides are:\n",
        "\n",
        "Katie Leap (@katieLeap, kleap@ucla.edu)\n",
        "\n",
        "Juan De la Hoz (@juanfdelahoz, jdelahoz@ucla.edu)\n",
        "\n",
        "Alex Fisher (alexanderfisher@ucla.edu)\n",
        "\n",
        "## Goals\n",
        "We will talk about probability and statistics and illustrate how these concepts are used to study human genetics.\n",
        "\n",
        "The main goal is to establish a common vocabulary so you can read, understand and critique models and methods while conducting research.\n",
        "\n",
        "Furthermore, we hope to demystify common mathematical concepts and to build scaffolding so you can independently engage with statistical methods (and love them).\n",
        "\n",
        "We will use code examples that you can try out now or come back to in the future. We will use Python and R examples, so lets go ahead and load the R environment:"
      ]
    },
    {
      "cell_type": "code",
      "metadata": {
        "id": "mfi9-J7_78QV",
        "colab_type": "code",
        "colab": {}
      },
      "source": [
        "%load_ext rpy2.ipython"
      ],
      "execution_count": 0,
      "outputs": []
    },
    {
      "cell_type": "markdown",
      "metadata": {
        "id": "Yr7GyaEk_LS3",
        "colab_type": "text"
      },
      "source": [
        "# Introduction to Science\n",
        "\n",
        "Science is the process through which we learn new things about reality.\n",
        "\n",
        "But reality is messy, noisy, complicated, impossible to define. But through abstraction, we can come up with simplified versions of reality that we can study.\n",
        "\n",
        "Science learns from the _representations_ or _models_ of reality.\n",
        "\n",
        "The process of abstraction needs to be **very careful**. In order to generalize the conclusions of the analysis."
      ]
    },
    {
      "cell_type": "markdown",
      "metadata": {
        "colab_type": "text",
        "id": "Jk1Suli44-zF"
      },
      "source": [
        "# Randomness\n",
        "\"A fool must now and then be right, by chance.\" \n",
        "\n",
        "_William Cowper, 1782_\n",
        "\n",
        "This is an important concept, and you should devote some time (every day) to think about it: How does randomness affect your life?\n",
        "\n",
        "Some questions to keep in mind when considering randomness:\n",
        "\n",
        "* How do we **explain** events in the real world? \n",
        "* How do we know what _outcome_ to **expect** from any given process?\n",
        "* How much of an outcome is _random_?\n",
        "* What does it mean to \"expect something to happen _by chance_\"?\n",
        "* Can we think of some outcome that is [Completely Random](https://www.random.org)?\n",
        "\n",
        "In order to isolate and study true Randomness, statisticians use \"Random Experiments\" as thought excercises to understand how randomness works and what to expect by chance.\n",
        "\n",
        "Let's try the simplest random experiment: flip a (virtual) coin."
      ]
    },
    {
      "cell_type": "code",
      "metadata": {
        "id": "c6ue8qRK-WkO",
        "colab_type": "code",
        "outputId": "8beb4612-a337-48fb-a8ac-fa01d4c792d0",
        "colab": {
          "base_uri": "https://localhost:8080/",
          "height": 36
        }
      },
      "source": [
        "%%R\n",
        "# throw a coin:\n",
        "rbinom( 1,       1,             0.5 )\n",
        "#       ^trials  ^coins/trial   ^probability of heads"
      ],
      "execution_count": 0,
      "outputs": [
        {
          "output_type": "display_data",
          "data": {
            "text/plain": [
              "[1] 0\n"
            ]
          },
          "metadata": {
            "tags": []
          }
        }
      ]
    },
    {
      "cell_type": "markdown",
      "metadata": {
        "id": "AFaZoDYa-E97",
        "colab_type": "text"
      },
      "source": [
        "The outcome of this process can be thought of as a [Random Variable](https://en.wikipedia.org/wiki/Random_variable).\n",
        "\n",
        "A Random Variable (X) is the answer to the question formulated for the random experiment."
      ]
    },
    {
      "cell_type": "markdown",
      "metadata": {
        "id": "YeyuYQR-j23W",
        "colab_type": "text"
      },
      "source": [
        "# Probability"
      ]
    },
    {
      "cell_type": "markdown",
      "metadata": {
        "id": "tkXx6PPjECiB",
        "colab_type": "text"
      },
      "source": [
        "Flip the coin many times and notice that the outcome is unpredictable. Does that mean that you don't know anything about the outcome?\n",
        "\n",
        "You _do_ know what the probability of the outcome is. So you _know_ something. \n",
        "\n",
        "The power of Probability lies in it being a tool to describe what you know and what you don't know with precision. It is used to describe patterns in random and unpredictable processes.\n",
        "\n",
        "Now, repeat the experiment 10 times (or more) and observe the ___distribution___ of outcomes"
      ]
    },
    {
      "cell_type": "code",
      "metadata": {
        "id": "z5c5K8I8DbR1",
        "colab_type": "code",
        "outputId": "d315179c-70e7-404e-d718-e696ad04b97d",
        "colab": {
          "base_uri": "https://localhost:8080/",
          "height": 497
        }
      },
      "source": [
        "%%R\n",
        "#set.seed(98)\n",
        "\n",
        "# save it:\n",
        "coins <- rbinom( 10, 1, 0.5 )\n",
        "\n",
        "# plot it:\n",
        "hist( coins, breaks=c(-0.2,0.2, 0.8,1.2), col=8, freq=TRUE, xaxt=\"n\")\n",
        "axis(side=1, at=c(0,1), labels=c(\"tails\",\"heads\"))"
      ],
      "execution_count": 0,
      "outputs": [
        {
          "output_type": "display_data",
          "data": {
            "image/png": "[encoded data removed]"
          },
          "metadata": {
            "tags": []
          }
        }
      ]
    },
    {
      "cell_type": "markdown",
      "metadata": {
        "id": "8eUPTBSYJxff",
        "colab_type": "text"
      },
      "source": [
        "When less coins are flipped, the difference between heads and tails is often large, even though the probability of each outcome is 0.5. When more coins are flipped, the frequency of head and tails is more even. Why is this?\n",
        "\n",
        "## The [Bernoulli Distribution](https://en.wikipedia.org/wiki/Bernoulli_distribution)\n",
        "This distribution describes the probability of the outcome of a single coinflip.\n",
        "It answers the question: what is the probability of obtaining heads on one coin?\n",
        "\n",
        "What is a distribution?\n",
        "\n",
        "* Set of events\n",
        "* Relative frequency of those events\n",
        "\n",
        "Let's take a moment to describe the Bernoulli distribution. What is reasonable to expect to happen by chance?\n",
        "\n",
        "What [process in human genetics](https://www.pnas.org/content/112/16/E2102) can be described as a Bernoulli distribution?\n",
        "\n",
        "___________\n",
        "\n",
        "Now, flip two coins (process) and asking how many head I obtain (question):"
      ]
    },
    {
      "cell_type": "code",
      "metadata": {
        "id": "BOAImXjJlgo9",
        "colab_type": "code",
        "outputId": "c8a01871-b305-4be5-f587-63f4dc36f3a0",
        "colab": {
          "base_uri": "https://localhost:8080/",
          "height": 497
        }
      },
      "source": [
        "%%R\n",
        "\n",
        "heads <- rbinom( 1, 2, 0.5 )\n",
        "              #     ^N  ^P\n",
        "hist( heads, breaks=c(-0.2,0.2, 0.8,1.2, 1.8,2.2), col=8, freq=TRUE)\n"
      ],
      "execution_count": 0,
      "outputs": [
        {
          "output_type": "display_data",
          "data": {
            "image/png": "[encoded data removed]"
          },
          "metadata": {
            "tags": []
          }
        }
      ]
    },
    {
      "cell_type": "markdown",
      "metadata": {
        "id": "275XWX1Gi2AI",
        "colab_type": "text"
      },
      "source": [
        "What is the _set of possible events_ in this Random Experiment?\n",
        "\n",
        "What is the _probability_ of each event?\n",
        "\n",
        "What happens when you change the number of trials? How does the number of trials affect the distribution?\n",
        "\n",
        "What happens if you change the probability of heads? What does this mean? \n",
        "\n",
        "Try: 1000 trials with a P(heads)=0.95 .\n",
        "\n",
        "## The [Binomial Distribution](https://en.wikipedia.org/wiki/Binomial_distribution)\n",
        "\n",
        "This distribution describes the __number of successes in a set of trials__. It's the answer to the question: how many coins will turn out heads, if I flip N of them?\n",
        "\n",
        "Consider the situation above, where you want to know how likely it is that you obtain two heads when throwing two coins.\n",
        "\n",
        "How about two tails? Should you define the probability of tails too?\n",
        "\n",
        "How often do you obtain one head and one tail?\n",
        "\n",
        "What happens when the probability of heads on each flip is different from 0.5?\n",
        "\n",
        "Lets observe now, how the frequency of head-head, head-tail and tail-tail changes as a function of the probability of heads."
      ]
    },
    {
      "cell_type": "code",
      "metadata": {
        "id": "W2j-jMfLrDiG",
        "colab_type": "code",
        "outputId": "93d893fc-cb4f-445b-de4e-62be4da078b8",
        "colab": {
          "base_uri": "https://localhost:8080/",
          "height": 497
        }
      },
      "source": [
        "%%R\n",
        "replicates = 5\n",
        "probability_of_heads <- c(0.05, \n",
        "                          #0.10, 0.15, 0.20, 0.25, 0.30,\n",
        "                          #0.35, 0.40, 0.45, \n",
        "                          0.5, \n",
        "                          #0.55, 0.60, 0.65, 0.70, 0.75,\n",
        "                          #0.80, 0.85, 0.9, \n",
        "                          0.95 \n",
        "                         )\n",
        "\n",
        "p = probability_of_heads[1]\n",
        "results = c(0,0,0)\n",
        "\n",
        "for (i in probability_of_heads[1:length(probability_of_heads)]){\n",
        "  p = i\n",
        "  for (j in 1:replicates){\n",
        "    trial = table(rbinom( 1000, 2, p ))\n",
        "    for (l in 1:length(trial)){\n",
        "      results_1 = c(as.numeric(names(trial)[l]), trial[l], p)\n",
        "      results = rbind(results, results_1 )\n",
        "    }\n",
        "  }\n",
        "}\n",
        "\n",
        "results = data.frame(results[2:nrow(results),])\n",
        "rownames(results) = 1:nrow(results)\n",
        "names(results) = c(\"event\",\"freq\",\"prob\")\n",
        "\n",
        "plot(results[results$event==0,\"prob\"],results[results$event==0,\"freq\"],col=2,\n",
        "    xlab=\"probability of heads\",ylab=\"frequency\",xlim=c(0,1))\n",
        "points(results[results$event==1,\"prob\"],results[results$event==1,\"freq\"],col=4)\n",
        "points(results[results$event==2,\"prob\"],results[results$event==2,\"freq\"],col=3)\n",
        "legend(0.4,900,c(\"tail-tail\",\"head-tail\",\"head-head\"),bty=\"n\",pch=1,col=c(2,4,3))\n"
      ],
      "execution_count": 0,
      "outputs": [
        {
          "output_type": "display_data",
          "data": {
            "image/png": "[encoded data removed]"
          },
          "metadata": {
            "tags": []
          }
        }
      ]
    },
    {
      "cell_type": "markdown",
      "metadata": {
        "id": "uKzoIMfjrCqd",
        "colab_type": "text"
      },
      "source": [
        "If instead of coins we were talking about **alleles**, and instead of probability of heads we were talking about **allele frequency**. Then, flipping two coins would be a model for fertilization, where two gametes with a single copy of a gene find each other and form a **diploid organism**.\n",
        "\n",
        "The two-coin example is exactly what you would expect to happen if **only chance** was acting on your population of diploid organisms. This is called: *Hardy-Weinberg equilibrium*. See an example [here](https://commons.wikimedia.org/wiki/File:Demonstrating_Hardy-Weinberg_proportions_using_10,000_SNPs_from_the_HapMap_CEU_European_and_YRI_African_populations.png)\n",
        "\n",
        "Bonus question: What would happen if the two gametes came from different populations with different allele frequencies?\n",
        "\n",
        "The Binomial changes if you're making more trials (throwing more coins) at a time. Lets increase N:"
      ]
    },
    {
      "cell_type": "code",
      "metadata": {
        "id": "C7E98E2dwson",
        "colab_type": "code",
        "outputId": "3c1a74bc-88ff-4e31-aa0d-0863c9c64d4e",
        "colab": {
          "base_uri": "https://localhost:8080/",
          "height": 497
        }
      },
      "source": [
        "%%R\n",
        "coins = 4\n",
        "heads <- rbinom( 1, coins, 0.5 )\n",
        "\n",
        "breaks = c(-.2,.2)\n",
        "for (i in 1:coins){\n",
        "    breaks = c(breaks,i-.2,i+.2)\n",
        "}\n",
        "\n",
        "hist( heads, breaks=breaks, col=8, freq=TRUE)\n",
        "\n"
      ],
      "execution_count": 0,
      "outputs": [
        {
          "output_type": "display_data",
          "data": {
            "image/png": "[encoded data removed]"
          },
          "metadata": {
            "tags": []
          }
        }
      ]
    },
    {
      "cell_type": "markdown",
      "metadata": {
        "id": "7IIJLhJ-wvdP",
        "colab_type": "text"
      },
      "source": [
        "___\n",
        "\n",
        "Now, lets consider a series of events happening during a fixed period of time. For example: How many scooter accidents will happen today?\n",
        "\n",
        "What is the process and what is the question?"
      ]
    },
    {
      "cell_type": "code",
      "metadata": {
        "id": "joLEJytKncer",
        "colab_type": "code",
        "outputId": "91f522fc-e2a0-4cd7-ac91-83d68950c89b",
        "colab": {
          "base_uri": "https://localhost:8080/",
          "height": 497
        }
      },
      "source": [
        "%%R\n",
        "accidents <- rpois( 1, lambda=5 )\n",
        "\n",
        "max_lim = (round(max(accidents)/10)+1)*10\n",
        "hist( accidents , breaks=seq(-.5, max_lim), col=8, xlim=c(-.5, max_lim), xlab=\"accidents per day\")"
      ],
      "execution_count": 0,
      "outputs": [
        {
          "output_type": "display_data",
          "data": {
            "image/png": "[encoded data removed]"
          },
          "metadata": {
            "tags": []
          }
        }
      ]
    },
    {
      "cell_type": "markdown",
      "metadata": {
        "id": "EcHm6dCRndVo",
        "colab_type": "text"
      },
      "source": [
        "Observe that the number of accidents can be 0, or it can be many more than we expected. However, on average they will occur at the rate we defined (lambda).\n",
        "\n",
        "How many accidents are too many accidents?\n",
        "\n",
        "## The [Poisson Distribution](https://en.wikipedia.org/wiki/Poisson_distribution)\n",
        "This distribution describes an unknown number of _events_ happening within a _known window_. This window can be of time, space, a combination of both, or anything you can define as a window.\n",
        "\n",
        "Using the Poisson distribution, you can calculate how likely it is that some (small or large) number of events happens. Example: how likely is it that 10 people have accidents today?\n",
        "\n",
        "What biological processes can be modelled using Poisson distributions?\n",
        "Examples:\n",
        "\n",
        "  - Number of de-novo mutations per offspring.\n",
        "  - Number of gene transcripts in a cell.\n",
        "\n",
        "Let's assume that you are planning an RNA-seq experiment. You may interested in the number of transcripts of gene G in a cell under two different conditions: A vs B.\n",
        "\n",
        "You may want to think beforehand, how many transcripts do you expect to find? How many replicates will you need?"
      ]
    },
    {
      "cell_type": "code",
      "metadata": {
        "colab_type": "code",
        "outputId": "11757001-7539-4dd5-d5d0-bdabace345a3",
        "id": "hTK-XxCRmFYZ",
        "colab": {
          "base_uri": "https://localhost:8080/",
          "height": 497
        }
      },
      "source": [
        "%%R\n",
        "reps = 3\n",
        "Condition_A <- rpois( reps, lambda=10 )\n",
        "Condition_B <- rpois( reps, lambda=15 )\n",
        "\n",
        "max_lim = (round(max(c(Condition_A,Condition_B))/10)+1)*10\n",
        "par(mfcol=c(2,1))\n",
        "hist( Condition_A , breaks=seq(-.5, max_lim), col=8, xlim=c(0, max_lim) ,xlab=\"gene G transcripts\")\n",
        "hist( Condition_B , breaks=seq(-.5, max_lim), col=8, xlim=c(0, max_lim) ,xlab=\"gene G transcripts\")\n"
      ],
      "execution_count": 0,
      "outputs": [
        {
          "output_type": "display_data",
          "data": {
            "image/png": "[encoded data removed]"
          },
          "metadata": {
            "tags": []
          }
        }
      ]
    },
    {
      "cell_type": "markdown",
      "metadata": {
        "id": "d1nfkvQEnovQ",
        "colab_type": "text"
      },
      "source": [
        "___\n",
        "Notice that all the distributions we have mentioned are designed for discrete numbers (or counts), and have very intuitive ways to think about the average of the distribution. What happens when you are not interested in counts, but in a real number?\n",
        "\n",
        "## The [Uniform Distribution](https://en.wikipedia.org/wiki/Uniform_distribution_(continuous))\n",
        "This distribution describes a process where you only know the range of possible events, but don't have any information about relative frequencies of events over that range. These distributions are commonly thought of as not having any information, or \"flat\".\n",
        "\n",
        "You can think of it in this way: any element (segment) drawn from a uniform distribution, has the exact same probability of being observed, as does any other element of the distribution."
      ]
    },
    {
      "cell_type": "code",
      "metadata": {
        "id": "BrmI7LUFnoar",
        "colab_type": "code",
        "outputId": "95add5e5-f4cb-4eac-eaff-de914b708527",
        "colab": {
          "base_uri": "https://localhost:8080/",
          "height": 497
        }
      },
      "source": [
        "%%R\n",
        "x <- runif( 100 ,0,1)\n",
        "\n",
        "hist( x, breaks=seq(0,1,1/50), col=8, xlim=c(0,1))"
      ],
      "execution_count": 0,
      "outputs": [
        {
          "output_type": "display_data",
          "data": {
            "image/png": "[encoded data removed]"
          },
          "metadata": {
            "tags": []
          }
        }
      ]
    },
    {
      "cell_type": "markdown",
      "metadata": {
        "id": "3164xuE9n8TJ",
        "colab_type": "text"
      },
      "source": [
        "Observe that when the sample is small (100s), some modes may arise by chance. But with larger samples (10Ms), you get the flat distribution.\n",
        "\n",
        "\n",
        "___\n",
        "## The [Normal Distribution](https://en.wikipedia.org/wiki/Normal_distribution)\n",
        "This may be the most commonly used distribution. It describes what happens when many independent, underlying processes affect one measurement.\n",
        "\n",
        "Think of the variation observed in some trait, for example height. Height is affected by many underlying processes of which we know very little. Each one of those effects will happen to an individual independent of the other effects.\n",
        "\n",
        "If we dont know anything about those processes and any individual is equally likely to be affected by them, independent of the other processes. We _could_ model such an outcome by adding many uniform distributions together:"
      ]
    },
    {
      "cell_type": "code",
      "metadata": {
        "id": "Lw6ljwUyiMRz",
        "colab_type": "code",
        "outputId": "ab5e5f98-2294-4ec5-a510-b5506c2b4aa2",
        "colab": {
          "base_uri": "https://localhost:8080/",
          "height": 497
        }
      },
      "source": [
        "%%R\n",
        "add_uniforms <- function( num_unif=2, sample_size=1000 ,x1=0, x2=1, normalize=FALSE)\n",
        "{\n",
        "\tmatrix_of_uniforms = matrix( nrow=sample_size, ncol=num_unif)\n",
        "\n",
        "  for (i in 1:num_unif){\n",
        "\t\tmatrix_of_uniforms[,i] =  runif(sample_size ,x1,x2)\n",
        "\t}\n",
        "  sum_of_uniforms = apply( matrix_of_uniforms, 1, sum)\n",
        "\n",
        "  if (normalize){\n",
        "\t  sum_of_uniforms = (sum_of_uniforms - mean(sum_of_uniforms))/sd(sum_of_uniforms)\n",
        "\t}\n",
        "\thist( sum_of_uniforms, 50, col=8, xlab=\"value for each individual\")\n",
        "}\n",
        "\n",
        "add_uniforms(1, 10000, normalize=FALSE)"
      ],
      "execution_count": 0,
      "outputs": [
        {
          "output_type": "display_data",
          "data": {
            "image/png": "[encoded data removed]"
          },
          "metadata": {
            "tags": []
          }
        }
      ]
    },
    {
      "cell_type": "markdown",
      "metadata": {
        "id": "8VVUsjD-oyhX",
        "colab_type": "text"
      },
      "source": [
        "Observe that some individuals will have many underlying effects (from the uniforms) in one direction, making them higher than average, and some individuals will have many underlying effects in the opposite direction, making them shorter than average. But most individuals will have a combination of effects in both directions, placing them closer to the average."
      ]
    },
    {
      "cell_type": "markdown",
      "metadata": {
        "id": "uQyK92tHpGfM",
        "colab_type": "text"
      },
      "source": [
        "# Summary Statistics\n",
        "Probability theory is useful for the study of well-defined distributions, but it is an idealized world. In the real world we have **Data**. [Data is messy](https://www.scientificamerican.com/article/how-to-get-better-at-embracing-unknowns/) and often large.\n",
        "\n",
        "How can you comunicate information about data to another person (or to a computer), without sharing **all of it**? How do you learn something about a trait or measurement, without listing all the observations? In other words, how do we summarize data and draw conclusion from it?\n",
        "\n",
        "There are two approaches to summarizing data: one visual, often for communication with other humans, and one numerical, for quatitative study. We will talk about plotting later, for now lets focus on the numerical ways.\n",
        "One _generally good_ way to summarize data was developed by John Tukey (1915-2000). It's called the [five-number summary](https://en.wikipedia.org/wiki/Five-number_summary), and its visual equivalent: the [box plot](https://en.wikipedia.org/wiki/Box_plot).\n",
        "\n",
        "\n",
        "<center><img src=\"http://cast.massey.ac.nz/core/en/boxPlot/images/s_boxPlotDefn.gif\" width=\"480\" height=\"200\"/></center>\n",
        "\n",
        "The five number summary can be applied with _flexibility_ to any list of measures, regardless of their **distribution**.\n",
        "\n",
        "Probability distributions (and their properties) can also be used to summarize (or represent) data, which makes them extremely powerful!\n",
        "If a list of values is _assumed to follow some distribution_, it can be described by the **parameters** of that distribution.\n",
        "Parameters are simply a set of numbers (usually 1 or 2) that are sufficient and necessary for describing the probability distribution of a random variable. Therefore, if data is assumed to be drawn from some _known distribution_, it can be summarized using those parameters.\n",
        "\n",
        "Bear in mind that the assertion that \"some group of data follows some distribution\", carries with it a lot of assumptions about the data that is being described. **These assumptions are often NOT met, and the implications of this has to be disclosed and discussed**. However, with enough care, a distribution can be chosen to fit your data, and once this is done, you can use all the tools developed for distributions to analize your data.\n",
        "\n",
        "Lets think about some data collected from [UCLA undergrads](http://www.admission.ucla.edu/campusprofile.htm). We might be interested in their height (or something different?). And we might convice ourselves that height, in UCLA undergrads, can be represented by a random variable that follows a normal distribution:\n",
        "\n",
        "$$\\text{height}_{ucla} \\sim \\mathcal{N}(\\mu,\\sigma^2) $$\n"
      ]
    },
    {
      "cell_type": "code",
      "metadata": {
        "id": "YIKODxfepnC5",
        "colab_type": "code",
        "outputId": "fcaed759-89c8-4323-b815-297f5d864e20",
        "colab": {
          "base_uri": "https://localhost:8080/",
          "height": 515
        }
      },
      "source": [
        "%%R\n",
        "height_m <- rnorm(15501,162,10)\n",
        "height_f <- rnorm(15501,177,10)\n",
        "height_ucla <- c(height_m,height_f)\n",
        "sample_size = 10\n",
        "sample_of_height <- sample( height_ucla, sample_size )\n",
        "hist( sample_of_height, col=8, xlab=\"Height in cm\")\n",
        "abline(v=mean(height_ucla),col=2,lty=2,lwd=4)\n",
        "abline(v=mean(sample_of_height),col=3,lty=2,lwd=3)\n",
        "print(paste(\"average height: \", mean(sample_of_height)))"
      ],
      "execution_count": 0,
      "outputs": [
        {
          "output_type": "display_data",
          "data": {
            "text/plain": [
              "[1] \"average height:  164.273449929026\"\n"
            ]
          },
          "metadata": {
            "tags": []
          }
        },
        {
          "output_type": "display_data",
          "data": {
            "image/png": "[encoded data removed]"
          },
          "metadata": {
            "tags": []
          }
        }
      ]
    },
    {
      "cell_type": "markdown",
      "metadata": {
        "id": "rqRHrO9mo8_M",
        "colab_type": "text"
      },
      "source": [
        "\n",
        "Using descriptive statistics, you can calculate what values of $\\mu$ and $\\sigma^2$ best represent height for UCLA undergrads. Lets see how:\n",
        "\n",
        "## What is a [statistic](https://en.wikipedia.org/wiki/Statistic)?\n",
        "A statistic is some function of your data (a sample).\n",
        "\n",
        "$$f(x_1,x_2,x_3,...,x_n)=y$$\n",
        "\n",
        "A descriptive statistic will be some _number_ $y$ that is good for describing a set of data. It is often used to learn information (make inferences) about the larger population where your data is coming from.\n",
        "\n",
        "### Expectation and Variance:\n",
        "\n",
        "\"You can, for example, never foretell what any one man will do, but you *can* say with precision what an average number will be up to. Individuals vary, but percentages remain constant. So says the statistician.\" - Sherlock Holmes, *The Sign of Four*\n",
        "\n",
        "_Sir Arthur Conan Doyle, 1890_\n",
        "\n",
        "Mean: The central tendency. The location of the distribution. If you were to sample infinite times, what to expect? But is it a strong expectation? ...\n",
        "\n",
        "Variance: Is this average useful? How informative is that mean? How well can you predict the outcome? How much variation is there to be explained?\n",
        "\n"
      ]
    },
    {
      "cell_type": "markdown",
      "metadata": {
        "id": "G3E9iIb1pAzJ",
        "colab_type": "text"
      },
      "source": [
        "## What is a [confidence interval](https://en.wikipedia.org/wiki/Confidence_interval)?\n",
        "We saw how we can generate descriptive statistics for samples. Now, how can we use those to learn about populations?\n",
        "With how much confidence can we describe something about the population, given that we only know the sample?"
      ]
    },
    {
      "cell_type": "code",
      "metadata": {
        "id": "g7kkFsshwDYB",
        "colab_type": "code",
        "outputId": "da273b7d-3d4d-49bb-bd45-0f38b5e5e888",
        "colab": {
          "base_uri": "https://localhost:8080/",
          "height": 497
        }
      },
      "source": [
        "%%R\n",
        "# The true meaning of a confidence interval\n",
        "true_mean = 0\n",
        "true_sd = 4\n",
        "n=10\n",
        "reps = 20\n",
        "confidence = qnorm(0.95)\n",
        "\n",
        "plot(-1,xlim=c(true_mean-(true_sd*3/log(n)),\n",
        "               true_mean+(true_sd*3/log(n))),\n",
        "        ylim=c(0,reps),\n",
        "     ylab=\"Sample Estimation\",xlab=\"Parameter Value\",main=\"Confidence Intervals\")\n",
        "abline(v=true_mean,lwd=2,lty=2,col=2)\n",
        "\n",
        "# estimate and plot confidence intervals (for a normal distribution)\n",
        "for (i in 1:reps){\n",
        "  sample <- rnorm(n,true_mean,true_sd)\n",
        "  statistic <- mean(sample)\n",
        "  interval <- (confidence * sd(sample)) / sqrt(n)\n",
        "  segments( x0=statistic-interval, x1=statistic+interval, y0=i)\n",
        "  points(statistic,i)\n",
        "}"
      ],
      "execution_count": 0,
      "outputs": [
        {
          "output_type": "display_data",
          "data": {
            "image/png": "[encoded data removed]"
          },
          "metadata": {
            "tags": []
          }
        }
      ]
    },
    {
      "cell_type": "markdown",
      "metadata": {
        "id": "HgXNkvh19cvf",
        "colab_type": "text"
      },
      "source": [
        "# Thinking like a statistician\n",
        "\n",
        "> Statistics - A subject which most statisticians find difficult but which many physicians are experts on. $-$Stephen Senn\n",
        "\n",
        "We're going to zoom out for a minute here and entertain some big picture thoughts. \n",
        "\n",
        "**First** we'll consider some vocabulary and notation, so that you can connect the things you already know with how we talk about them in statistics.\n",
        "\n",
        "**Second** we'll talk about philosophy of statistics and how that might be different from a more general philosophy of science or biology. \n",
        "\n",
        "**Third** we'll connect back to the more practical statistics we've been discussing and talk about the workflow of a statistician. This will bridge the descriptive statistics Juan discussed and the linear modeling that Alex will cover next."
      ]
    },
    {
      "cell_type": "markdown",
      "metadata": {
        "id": "wHBOyR6nAOAU",
        "colab_type": "text"
      },
      "source": [
        "## Writing like a statistician\n",
        "\n",
        "For the most part, we spend most of our days speaking **natural languages**, which evolved naturally and weren't designed or constructed by people. These languages tend to be ambiguous: words can mean several different things with different nuances. Thus, they are also redundant, like this sentence and the previous clause because \"ambiguous\" didn't cover the entirety of what I meant to say.\n",
        "\n",
        "However, math is a **formal language**, as are programming languages. It was designed by people for a specific application. There are strict rules about syntax, semantics, tokens, and structure.\n",
        "\n",
        "In a natural language, not only do wrong and WRONG and wRoNg mean the same thing, but so do erroneous, false, inaccurate, mistaken, unsound, and untrue. \n",
        "\n",
        "In a formal language, each **token**, or the basic elements of the language, is a predefined entity. You can say $3*2=6$ because each of these elements have meaning in math. You can't say $3=+6\\$$ because $ is not a mathematical token.\n",
        "\n",
        "**Structure** refers to the way these tokens are arranged. $3=+6\\$$ is also wrong because you can't place a $+$ immediately after an $=$.\n",
        "\n",
        "**Syntax** is what governs the structure, while **semantics** refers to the meaning. $3+3=9$ is syntactically correct, but semantically incorrect.\n"
      ]
    },
    {
      "cell_type": "markdown",
      "metadata": {
        "id": "mk9nT5jwbizY",
        "colab_type": "text"
      },
      "source": [
        "### Is statistical writing a formal language?\n",
        "\n",
        "The answer is unequivocally no.\n",
        "\n",
        "Statistics is used in many different fields and each field has its own set of terminology and sometimes its own math (looking at you psych stats). Therefore, there are often many synonyms for a single idea and depending on where you've used statistics before, you may be familiar with a different set of terminology than other people you interact with.\n",
        "\n",
        "However, I want you to expect each new term you encounter in this bootcamp to be a **technical term**."
      ]
    },
    {
      "cell_type": "markdown",
      "metadata": {
        "id": "2nyDvAOjchLL",
        "colab_type": "text"
      },
      "source": [
        "### Technical terms\n",
        "\n",
        "This means that while you may have heard these words to mean any number of things, within statistics they mean only one thing and always that one thing.\n",
        "\n",
        "For example, people say that things are \"in their DNA\" to mean that those things are an important part of their identity, but the only things we expect to be in our DNA are adenine, thymine, guanine, cytosine, deoxyribose, and phosphate.\n",
        "\n",
        "It's important to remember, however, that while you may be unfamiliar with the term that we're using, you are probably familiar with the concept it describes."
      ]
    },
    {
      "cell_type": "markdown",
      "metadata": {
        "id": "kseWTJ58dlWD",
        "colab_type": "text"
      },
      "source": [
        "### You know more than you think you do\n",
        "\n",
        "$$\\frac{1}{n} \\sum_{i=1}^{n} x_i$$"
      ]
    },
    {
      "cell_type": "markdown",
      "metadata": {
        "id": "EUQcWpC3eDB2",
        "colab_type": "text"
      },
      "source": [
        "### Statistical conventions\n",
        "\n",
        "\n",
        "*   Greek letters for population values (true/unknown): $\\mu$, $\\sigma$\n",
        "*   Roman letters for sample values: $x$, $s$\n",
        "*   Bar for an average/mean: $\\bar{x}$, $\\bar{y}$\n",
        "*   Hat for an estimate: $\\hat{\\mu}$, $\\hat{\\sigma}$\n",
        "*   $\\sim$ is distributed: $X \\sim N(0,1)$\n",
        "*   $N(\\mu, \\sigma^2)$: name of the distribution followed by its parameters\n",
        "* Indicator function: $\\mathbb{1}$ or $\\mathbb{I}$\n",
        "\n",
        "Introduce new letters at your own peril; most letters are shorthand for something. For example, $x, y, z$ often refer to variables, while $a, b, c$ are shorthand for coefficients (remember the standard form of an equation of a line? $ax + by = c$). \n",
        "\n",
        "Alex is going to go more into notation, but keep in mind that all of these letters are **TOKENS**, that is to say that they **carry meaning**. If somebody is talking about an $m \\times n$ matrix and refers to $i$ and $j$, I know what that means because we don't pick random letters.\n",
        "\n",
        "I know it seems arbitrary and it is. However, the point of languages is communication and by agreeing on these arbitrary conventions, it is much easier to understand each other."
      ]
    },
    {
      "cell_type": "markdown",
      "metadata": {
        "id": "0YZkG42eATh6",
        "colab_type": "text"
      },
      "source": [
        "## Reasoning like a statistician\n",
        "\n",
        "Statistics is often seen as a tool or a method to those operating outside of the discipline. However, there is active research into the philosophy of statistics (and you could even get a doctorate of philosophy in statistics!), which we are not going to cover today.\n",
        "\n",
        "Instead, we are going to touch on the idea of being wrong and how it is approached within the larger scientific community as contrasted with within the philosophy of statistics.\n",
        "\n"
      ]
    },
    {
      "cell_type": "markdown",
      "metadata": {
        "id": "kSK5NrKDkF0l",
        "colab_type": "text"
      },
      "source": [
        "### Karl Popper and falsifiability\n",
        "\n",
        "Karl Popper (1902-1994) was a philosopher who is best known for his idea of empirical falsification. This states that for an idea to be scientific, it must be falsifiable, i.e. capable of being proven false.\n",
        "\n",
        "This framework dictates that scientific ideas cannot be proven true, but they can be proven false. Therefore, we design experiments by positing a hypothesis and trying to disprove the hypothesis; if we cannot disprove it, the theory stands.\n",
        "\n"
      ]
    },
    {
      "cell_type": "markdown",
      "metadata": {
        "id": "HuaA69s0UG9p",
        "colab_type": "text"
      },
      "source": [
        "### Isaac Asimov and the relativity of wrong\n",
        "\n",
        "Isaac Asimov (1920-1992) was a science fiction writer, but also a biochemistry professor with a PhD in chemistry.\n",
        "\n",
        "One of his essays, [The Relativity of Wrong](https://hermiene.net/essays-trans/relativity_of_wrong.html), is written as a response to a letter from a reader instructing him that \"the one thing we can say about our modern \"knowledge\" is that it is wrong.\"\n",
        "\n",
        "His response is the entirety of the essay, but can be summed with this introduction:\n",
        "\n",
        "> My answer to him was, \"John, when people thought the Earth was flat, they were wrong. When people thought the Earth was spherical, they were wrong. But if *you* think that thinking the Earth is spherical is *just as wrong* as thinking the Earth is flat, then your view is wronger than both of them put together.\"\n",
        ">\n",
        "> The basic trouble, you see, is that people think that \"right\" and \"wrong\" are absolute; that everything that isn't perfectly and completely right is totally and equally wrong.\n",
        "\n",
        "This is a good summation of what it means to be wrong in science. Asimov goes on to say, \"Theories are not so much wrong as incomplete.\" The understanding is that we try to be as correct as possible and as we learn that we're wrong, we update and adopt the better view."
      ]
    },
    {
      "cell_type": "markdown",
      "metadata": {
        "id": "sVENrHUMmADo",
        "colab_type": "text"
      },
      "source": [
        "### George Box and \"all models are wrong\"\n",
        "\n",
        "George Box (1919-2013) was a statistician who is best known for this quote, but who also contributed significantly to time-series analysis.\n",
        "\n",
        "> Now it would be very remarkable if any system existing in the real world could be exactly represented by any simple model. However, cunningly chosen parsimonious models often do provide remarkably useful approximations. For example, the law $PV = RT$ relating pressure $P$, volume $V$ and temperature $T$ of an \"ideal\" gas via a constant $R$ is not exactly true for any real gas, but it frequently provides a useful approximation and furthermore its structure is informative since it springs from a physical view of the behavior of gas molecules.\n",
        ">\n",
        "> For such a model there is no need to ask the question \"Is the model true?\". If \"truth\" is to be the \"whole truth\" the answer must be \"No\". The only question of interest is \"Is the model illuminating and useful?\".\n",
        "\n",
        "How does Box's idea of a model contrast with Popper's idea of a hypothesis? Do Box and Asimov agree on what it means to be wrong?\n",
        "\n",
        "### How to think about assumptions\n",
        "\n",
        "> All models are approximations. Assumptions, whether implied or clearly stated, are never exactly true. All models are wrong, but some models are useful. So the question you need to ask is not \"Is the model true?\" (it never is) but \"Is the model good enough for this particular application?\"\n",
        "\n",
        "What are some models that are wrong, but useful?\n",
        "\n",
        "* weather forecasting\n",
        "* maps\n",
        "\n",
        "What \"assumptions\" do you need to make of a weather forecast for it to be useful? In order to know if you need an umbrella tomorrow, you need to know:\n",
        "\n",
        "* that the forecast is for tomorrow\n",
        "* in LA\n",
        "* and includes rain information\n",
        "\n",
        "If even just one of those isn't true, the forecast is useless. It may not be wrong; it's quite likely it's going to rain in Seattle tomorrow, but it's not useful.\n",
        "\n",
        "It is important to note that **statistical software does not check assumptions for you**. We're going to cover common statistical assumptions tomorrow, but I need to reiterate this a lot."
      ]
    },
    {
      "cell_type": "markdown",
      "metadata": {
        "id": "AXmMYx2kAbha",
        "colab_type": "text"
      },
      "source": [
        "## Working like a statistician\n",
        "\n",
        "We're going to go through a typical workflow for statistical data analysis. By that I mean the general tasks that you would complete after receiving a dataset and the general order in which you would do them. I don't mean a script or package that you can download and run (but sometimes this is what people mean by workflow).\n",
        "\n",
        "As we go along, we'll talk about key concepts and definitions and we'll start putting together the ideas that underlie the statistics you'll most likely be interacting with for the rest of your career: hypothesis testing."
      ]
    },
    {
      "cell_type": "markdown",
      "metadata": {
        "id": "BQlkj8oj5xTz",
        "colab_type": "text"
      },
      "source": [
        "### Descriptive statistics\n",
        "\n",
        "So far we have covered *descriptive* statistics. As the name implies, they describe the data.\n",
        "\n"
      ]
    },
    {
      "cell_type": "markdown",
      "metadata": {
        "id": "1ytjT7E_74hn",
        "colab_type": "text"
      },
      "source": [
        "### What is inference?"
      ]
    },
    {
      "cell_type": "markdown",
      "metadata": {
        "id": "BUZAaeHv78it",
        "colab_type": "text"
      },
      "source": [
        "### Hypothesis testing"
      ]
    },
    {
      "cell_type": "markdown",
      "metadata": {
        "id": "dk7hLDi98ATF",
        "colab_type": "text"
      },
      "source": [
        "### p-values"
      ]
    },
    {
      "cell_type": "markdown",
      "metadata": {
        "id": "e0LMZf6w8B4N",
        "colab_type": "text"
      },
      "source": [
        "### Parametric vs. non-parametric statistics"
      ]
    },
    {
      "cell_type": "code",
      "metadata": {
        "id": "KtkrDO2zrDoT",
        "colab_type": "code",
        "outputId": "a58a788c-3bf0-46ce-b069-898e334ba797",
        "colab": {
          "base_uri": "https://localhost:8080/",
          "height": 1000
        }
      },
      "source": [
        "%%R\n",
        "install.packages(\"Hmisc\")\n",
        "\n",
        "library(Hmisc)\n",
        "library(tidyverse)\n",
        "\n",
        "demographics <- sasxport.get(\"http://wwwn.cdc.gov/Nchs/Nhanes/2013-2014/DEMO_H.XPT\") %>% \n",
        "  select(id=seqn,gender=riagendr,age=ridageyr) %>% \n",
        "  mutate(gender=recode(as.factor(gender), \"1\"=\"male\",\"2\"=\"female\"))\n",
        "\n",
        "taste.smell <- sasxport.get(\"http://wwwn.cdc.gov/Nchs/Nhanes/2013-2014/CSX_H.XPT\") %>% \n",
        "  select(id=seqn,runny=csq260n,choc=csxchood) %>% \n",
        "  mutate(runny=replace(runny,is.na(runny),0) %>% \n",
        "           as.factor %>% \n",
        "           recode(\"1\"=\"yes\",\"0\"=\"no\"),\n",
        "         choc=recode(as.factor(choc),\"1\"=\"Lemon\", \"2\"=\"Chocolate\", \n",
        "                                        \"3\"=\"Smoke\",\"4\"=\"Black pepper\"))\n",
        "\n",
        "smoker <-  sasxport.get(\"http://wwwn.cdc.gov/Nchs/Nhanes/2013-2014/SMQ_H.XPT\") %>% \n",
        "  select(id=seqn,ever.smoker=smq020,curr.smoker=smq040,age.smoke=smd030) %>% \n",
        "  mutate(ever.smoker=recode(as.factor(ever.smoker), \"1\"=\"yes\",\"2\"=\"no\",\"9\"=\"don't know\"),\n",
        "         curr.smoker=replace(curr.smoker,is.na(curr.smoker),0) %>%\n",
        "           as.factor %>% \n",
        "           recode(\"1\"=\"Every day\",\t\"2\"=\"Some days\",\"3\"=\"Not at all\", \"0\"=\"Never\"))\n",
        "\n",
        "secondhand <- sasxport.get(\"http://wwwn.cdc.gov/Nchs/Nhanes/2013-2014/SMQFAM_H.XPT\") %>% \n",
        "  select(id=seqn,num.smokers=smd470) \n",
        "  \n",
        "smellquest <- sasxport.get(\"http://wwwn.cdc.gov/Nchs/Nhanes/2013-2014/CSQ_H.XPT\") %>% \n",
        "  select(id=seqn,nas.congest=csq204,broke.nose=csq250) %>% \n",
        "  mutate(nas.congest=recode(as.factor(nas.congest),\"1\"=\"yes\",\"2\"=\"no\"),\n",
        "         broke.nose=recode(as.factor(broke.nose), \"1\"=\"yes\",\"2\"=\"no\"))\n",
        "\n",
        "medcon <- sasxport.get(\"http://wwwn.cdc.gov/Nchs/Nhanes/2013-2014/MCQ_H.XPT\") %>% \n",
        "  select(id=seqn,ever.asth=mcq010,cur.asth=mcq035) %>% \n",
        "  mutate(ever.asth=recode(as.factor(ever.asth),\"1\"=\"yes\",\"2\"=\"no\"),\n",
        "    cur.asth= replace(cur.asth,is.na(cur.asth),0) %>% \n",
        "           as.factor %>% \n",
        "           recode(\"1\"=\"yes\",\"2\"=\"no\",\"0\"=\"no\"))\n",
        "\n",
        "blood <- sasxport.get(\"http://wwwn.cdc.gov/Nchs/Nhanes/2013-2014/PBCD_H.XPT\") %>% \n",
        "  select(id=seqn, lead=lbxbpb, mercury=lbxthg)\n",
        "\n",
        "body.meas <- sasxport.get(\"http://wwwn.cdc.gov/Nchs/Nhanes/2013-2014/BMX_H.XPT\") %>% \n",
        "  select(id=seqn, weight=bmxwt, height=bmxht)\n",
        "\n",
        "full.dat <- left_join(demographics, taste.smell, by = \"id\") %>% \n",
        "  left_join(smoker, by = \"id\") %>% \n",
        "  left_join(secondhand, by = \"id\") %>% \n",
        "  left_join(smellquest, by = \"id\") %>% \n",
        "  left_join(medcon, by = \"id\") %>% \n",
        "  left_join(blood, by = \"id\") %>% \n",
        "  left_join(body.meas, by =\"id\")\n",
        "\n",
        "rm.nas <- full.dat %>% \n",
        "  filter(!is.na(ever.smoker)) %>% \n",
        "  mutate(age.smoke=replace(age.smoke,age.smoke==999 | age.smoke==0,NA)) %>% \n",
        "  mutate(nas.congest=recode(nas.congest,\"9\"=NA),\n",
        "         broke.nose=recode(broke.nose, \"9\"=NA),\n",
        "         ever.asth=recode(ever.asth, \"7\"=NA,\"9\"=NA),\n",
        "         cur.asth=recode(cur.asth, \"9\"=NA))\n"
      ],
      "execution_count": 0,
      "outputs": [
        {
          "output_type": "stream",
          "text": [
            "/usr/local/lib/python3.6/dist-packages/rpy2/rinterface/__init__.py:146: RRuntimeWarning: Installing package into ‘/usr/local/lib/R/site-library’\n",
            "(as ‘lib’ is unspecified)\n",
            "\n",
            "  warnings.warn(x, RRuntimeWarning)\n",
            "/usr/local/lib/python3.6/dist-packages/rpy2/rinterface/__init__.py:146: RRuntimeWarning: also installing the dependencies ‘checkmate’, ‘htmlwidgets’, ‘Formula’, ‘latticeExtra’, ‘acepack’, ‘gridExtra’, ‘data.table’, ‘htmlTable’, ‘viridis’\n",
            "\n",
            "\n",
            "  warnings.warn(x, RRuntimeWarning)\n",
            "/usr/local/lib/python3.6/dist-packages/rpy2/rinterface/__init__.py:146: RRuntimeWarning: trying URL 'https://cran.rstudio.com/src/contrib/checkmate_1.9.4.tar.gz'\n",
            "\n",
            "  warnings.warn(x, RRuntimeWarning)\n",
            "/usr/local/lib/python3.6/dist-packages/rpy2/rinterface/__init__.py:146: RRuntimeWarning: Content type 'application/x-gzip'\n",
            "  warnings.warn(x, RRuntimeWarning)\n",
            "/usr/local/lib/python3.6/dist-packages/rpy2/rinterface/__init__.py:146: RRuntimeWarning:  length 214038 bytes (209 KB)\n",
            "\n",
            "  warnings.warn(x, RRuntimeWarning)\n",
            "/usr/local/lib/python3.6/dist-packages/rpy2/rinterface/__init__.py:146: RRuntimeWarning: =\n",
            "  warnings.warn(x, RRuntimeWarning)\n",
            "/usr/local/lib/python3.6/dist-packages/rpy2/rinterface/__init__.py:146: RRuntimeWarning: \n",
            "\n",
            "  warnings.warn(x, RRuntimeWarning)\n",
            "/usr/local/lib/python3.6/dist-packages/rpy2/rinterface/__init__.py:146: RRuntimeWarning: downloaded 209 KB\n",
            "\n",
            "\n",
            "  warnings.warn(x, RRuntimeWarning)\n",
            "/usr/local/lib/python3.6/dist-packages/rpy2/rinterface/__init__.py:146: RRuntimeWarning: trying URL 'https://cran.rstudio.com/src/contrib/htmlwidgets_1.3.tar.gz'\n",
            "\n",
            "  warnings.warn(x, RRuntimeWarning)\n",
            "/usr/local/lib/python3.6/dist-packages/rpy2/rinterface/__init__.py:146: RRuntimeWarning:  length 866548 bytes (846 KB)\n",
            "\n",
            "  warnings.warn(x, RRuntimeWarning)\n",
            "/usr/local/lib/python3.6/dist-packages/rpy2/rinterface/__init__.py:146: RRuntimeWarning: downloaded 846 KB\n",
            "\n",
            "\n",
            "  warnings.warn(x, RRuntimeWarning)\n",
            "/usr/local/lib/python3.6/dist-packages/rpy2/rinterface/__init__.py:146: RRuntimeWarning: trying URL 'https://cran.rstudio.com/src/contrib/Formula_1.2-3.tar.gz'\n",
            "\n",
            "  warnings.warn(x, RRuntimeWarning)\n",
            "/usr/local/lib/python3.6/dist-packages/rpy2/rinterface/__init__.py:146: RRuntimeWarning:  length 151340 bytes (147 KB)\n",
            "\n",
            "  warnings.warn(x, RRuntimeWarning)\n",
            "/usr/local/lib/python3.6/dist-packages/rpy2/rinterface/__init__.py:146: RRuntimeWarning: downloaded 147 KB\n",
            "\n",
            "\n",
            "  warnings.warn(x, RRuntimeWarning)\n",
            "/usr/local/lib/python3.6/dist-packages/rpy2/rinterface/__init__.py:146: RRuntimeWarning: trying URL 'https://cran.rstudio.com/src/contrib/latticeExtra_0.6-28.tar.gz'\n",
            "\n",
            "  warnings.warn(x, RRuntimeWarning)\n",
            "/usr/local/lib/python3.6/dist-packages/rpy2/rinterface/__init__.py:146: RRuntimeWarning:  length 1294369 bytes (1.2 MB)\n",
            "\n",
            "  warnings.warn(x, RRuntimeWarning)\n",
            "/usr/local/lib/python3.6/dist-packages/rpy2/rinterface/__init__.py:146: RRuntimeWarning: downloaded 1.2 MB\n",
            "\n",
            "\n",
            "  warnings.warn(x, RRuntimeWarning)\n",
            "/usr/local/lib/python3.6/dist-packages/rpy2/rinterface/__init__.py:146: RRuntimeWarning: trying URL 'https://cran.rstudio.com/src/contrib/acepack_1.4.1.tar.gz'\n",
            "\n",
            "  warnings.warn(x, RRuntimeWarning)\n",
            "/usr/local/lib/python3.6/dist-packages/rpy2/rinterface/__init__.py:146: RRuntimeWarning:  length 34848 bytes (34 KB)\n",
            "\n",
            "  warnings.warn(x, RRuntimeWarning)\n",
            "/usr/local/lib/python3.6/dist-packages/rpy2/rinterface/__init__.py:146: RRuntimeWarning: downloaded 34 KB\n",
            "\n",
            "\n",
            "  warnings.warn(x, RRuntimeWarning)\n",
            "/usr/local/lib/python3.6/dist-packages/rpy2/rinterface/__init__.py:146: RRuntimeWarning: trying URL 'https://cran.rstudio.com/src/contrib/gridExtra_2.3.tar.gz'\n",
            "\n",
            "  warnings.warn(x, RRuntimeWarning)\n",
            "/usr/local/lib/python3.6/dist-packages/rpy2/rinterface/__init__.py:146: RRuntimeWarning:  length 1062844 bytes (1.0 MB)\n",
            "\n",
            "  warnings.warn(x, RRuntimeWarning)\n",
            "/usr/local/lib/python3.6/dist-packages/rpy2/rinterface/__init__.py:146: RRuntimeWarning: downloaded 1.0 MB\n",
            "\n",
            "\n",
            "  warnings.warn(x, RRuntimeWarning)\n",
            "/usr/local/lib/python3.6/dist-packages/rpy2/rinterface/__init__.py:146: RRuntimeWarning: trying URL 'https://cran.rstudio.com/src/contrib/data.table_1.12.2.tar.gz'\n",
            "\n",
            "  warnings.warn(x, RRuntimeWarning)\n",
            "/usr/local/lib/python3.6/dist-packages/rpy2/rinterface/__init__.py:146: RRuntimeWarning:  length 3343698 bytes (3.2 MB)\n",
            "\n",
            "  warnings.warn(x, RRuntimeWarning)\n",
            "/usr/local/lib/python3.6/dist-packages/rpy2/rinterface/__init__.py:146: RRuntimeWarning: downloaded 3.2 MB\n",
            "\n",
            "\n",
            "  warnings.warn(x, RRuntimeWarning)\n",
            "/usr/local/lib/python3.6/dist-packages/rpy2/rinterface/__init__.py:146: RRuntimeWarning: trying URL 'https://cran.rstudio.com/src/contrib/htmlTable_1.13.2.tar.gz'\n",
            "\n",
            "  warnings.warn(x, RRuntimeWarning)\n",
            "/usr/local/lib/python3.6/dist-packages/rpy2/rinterface/__init__.py:146: RRuntimeWarning:  length 173292 bytes (169 KB)\n",
            "\n",
            "  warnings.warn(x, RRuntimeWarning)\n",
            "/usr/local/lib/python3.6/dist-packages/rpy2/rinterface/__init__.py:146: RRuntimeWarning: downloaded 169 KB\n",
            "\n",
            "\n",
            "  warnings.warn(x, RRuntimeWarning)\n",
            "/usr/local/lib/python3.6/dist-packages/rpy2/rinterface/__init__.py:146: RRuntimeWarning: trying URL 'https://cran.rstudio.com/src/contrib/viridis_0.5.1.tar.gz'\n",
            "\n",
            "  warnings.warn(x, RRuntimeWarning)\n",
            "/usr/local/lib/python3.6/dist-packages/rpy2/rinterface/__init__.py:146: RRuntimeWarning:  length 1906320 bytes (1.8 MB)\n",
            "\n",
            "  warnings.warn(x, RRuntimeWarning)\n",
            "/usr/local/lib/python3.6/dist-packages/rpy2/rinterface/__init__.py:146: RRuntimeWarning: downloaded 1.8 MB\n",
            "\n",
            "\n",
            "  warnings.warn(x, RRuntimeWarning)\n",
            "/usr/local/lib/python3.6/dist-packages/rpy2/rinterface/__init__.py:146: RRuntimeWarning: trying URL 'https://cran.rstudio.com/src/contrib/Hmisc_4.2-0.tar.gz'\n",
            "\n",
            "  warnings.warn(x, RRuntimeWarning)\n",
            "/usr/local/lib/python3.6/dist-packages/rpy2/rinterface/__init__.py:146: RRuntimeWarning:  length 732731 bytes (715 KB)\n",
            "\n",
            "  warnings.warn(x, RRuntimeWarning)\n",
            "/usr/local/lib/python3.6/dist-packages/rpy2/rinterface/__init__.py:146: RRuntimeWarning: downloaded 715 KB\n",
            "\n",
            "\n",
            "  warnings.warn(x, RRuntimeWarning)\n",
            "/usr/local/lib/python3.6/dist-packages/rpy2/rinterface/__init__.py:146: RRuntimeWarning: \n",
            "  warnings.warn(x, RRuntimeWarning)\n",
            "/usr/local/lib/python3.6/dist-packages/rpy2/rinterface/__init__.py:146: RRuntimeWarning: The downloaded source packages are in\n",
            "\t‘/tmp/Rtmpsm1lJI/downloaded_packages’\n",
            "  warnings.warn(x, RRuntimeWarning)\n",
            "/usr/local/lib/python3.6/dist-packages/rpy2/rinterface/__init__.py:146: RRuntimeWarning: Loading required package: lattice\n",
            "\n",
            "  warnings.warn(x, RRuntimeWarning)\n",
            "/usr/local/lib/python3.6/dist-packages/rpy2/rinterface/__init__.py:146: RRuntimeWarning: Loading required package: survival\n",
            "\n",
            "  warnings.warn(x, RRuntimeWarning)\n",
            "/usr/local/lib/python3.6/dist-packages/rpy2/rinterface/__init__.py:146: RRuntimeWarning: Loading required package: Formula\n",
            "\n",
            "  warnings.warn(x, RRuntimeWarning)\n",
            "/usr/local/lib/python3.6/dist-packages/rpy2/rinterface/__init__.py:146: RRuntimeWarning: Loading required package: ggplot2\n",
            "\n",
            "  warnings.warn(x, RRuntimeWarning)\n",
            "/usr/local/lib/python3.6/dist-packages/rpy2/rinterface/__init__.py:146: RRuntimeWarning: \n",
            "Attaching package: ‘Hmisc’\n",
            "\n",
            "\n",
            "  warnings.warn(x, RRuntimeWarning)\n",
            "/usr/local/lib/python3.6/dist-packages/rpy2/rinterface/__init__.py:146: RRuntimeWarning: The following objects are masked from ‘package:base’:\n",
            "\n",
            "    format.pval, units\n",
            "\n",
            "\n",
            "  warnings.warn(x, RRuntimeWarning)\n",
            "/usr/local/lib/python3.6/dist-packages/rpy2/rinterface/__init__.py:146: RRuntimeWarning: ── Attaching packages ─────────────────────────────────────── tidyverse 1.2.1 ──\n",
            "\n",
            "  warnings.warn(x, RRuntimeWarning)\n",
            "/usr/local/lib/python3.6/dist-packages/rpy2/rinterface/__init__.py:146: RRuntimeWarning: ✔ tibble  2.1.3     ✔ purrr   0.3.2\n",
            "✔ tidyr   0.8.3     ✔ dplyr   0.8.3\n",
            "✔ readr   1.3.1     ✔ stringr 1.4.0\n",
            "✔ tibble  2.1.3     ✔ forcats 0.4.0\n",
            "\n",
            "  warnings.warn(x, RRuntimeWarning)\n",
            "/usr/local/lib/python3.6/dist-packages/rpy2/rinterface/__init__.py:146: RRuntimeWarning: ── Conflicts ────────────────────────────────────────── tidyverse_conflicts() ──\n",
            "✖ dplyr::filter()    masks stats::filter()\n",
            "✖ dplyr::lag()       masks stats::lag()\n",
            "✖ dplyr::src()       masks Hmisc::src()\n",
            "✖ dplyr::summarize() masks Hmisc::summarize()\n",
            "\n",
            "  warnings.warn(x, RRuntimeWarning)\n"
          ],
          "name": "stderr"
        },
        {
          "output_type": "display_data",
          "data": {
            "text/plain": [
              "Processing SAS dataset DEMO_H \t ..\n",
              "Processing SAS dataset CSX_H \t ..\n",
              "Processing SAS dataset SMQ_H \t ..\n",
              "Processing SAS dataset SMQFAM_H \t ..\n",
              "Processing SAS dataset CSQ_H \t ..\n",
              "Processing SAS dataset MCQ_H \t ..\n",
              "Processing SAS dataset PBCD_H \t ..\n",
              "Processing SAS dataset BMX_H \t ..\n"
            ]
          },
          "metadata": {
            "tags": []
          }
        }
      ]
    },
    {
      "cell_type": "code",
      "metadata": {
        "id": "_vxN3vYP0K3V",
        "colab_type": "code",
        "outputId": "0c4ef977-55ed-4967-eb6a-92419baf5819",
        "colab": {
          "base_uri": "https://localhost:8080/",
          "height": 1000
        }
      },
      "source": [
        "%%R\n",
        "install.packages(\"skimr\")\n",
        "library(skimr)\n",
        "\n",
        "skim(full.dat)"
      ],
      "execution_count": 0,
      "outputs": [
        {
          "output_type": "stream",
          "text": [
            "/usr/local/lib/python3.6/dist-packages/rpy2/rinterface/__init__.py:146: RRuntimeWarning: also installing the dependency ‘pander’\n",
            "\n",
            "\n",
            "  warnings.warn(x, RRuntimeWarning)\n",
            "/usr/local/lib/python3.6/dist-packages/rpy2/rinterface/__init__.py:146: RRuntimeWarning: trying URL 'https://cran.rstudio.com/src/contrib/pander_0.6.3.tar.gz'\n",
            "\n",
            "  warnings.warn(x, RRuntimeWarning)\n",
            "/usr/local/lib/python3.6/dist-packages/rpy2/rinterface/__init__.py:146: RRuntimeWarning:  length 378284 bytes (369 KB)\n",
            "\n",
            "  warnings.warn(x, RRuntimeWarning)\n",
            "/usr/local/lib/python3.6/dist-packages/rpy2/rinterface/__init__.py:146: RRuntimeWarning: downloaded 369 KB\n",
            "\n",
            "\n",
            "  warnings.warn(x, RRuntimeWarning)\n",
            "/usr/local/lib/python3.6/dist-packages/rpy2/rinterface/__init__.py:146: RRuntimeWarning: trying URL 'https://cran.rstudio.com/src/contrib/skimr_1.0.7.tar.gz'\n",
            "\n",
            "  warnings.warn(x, RRuntimeWarning)\n",
            "/usr/local/lib/python3.6/dist-packages/rpy2/rinterface/__init__.py:146: RRuntimeWarning:  length 730379 bytes (713 KB)\n",
            "\n",
            "  warnings.warn(x, RRuntimeWarning)\n",
            "/usr/local/lib/python3.6/dist-packages/rpy2/rinterface/__init__.py:146: RRuntimeWarning: downloaded 713 KB\n",
            "\n",
            "\n",
            "  warnings.warn(x, RRuntimeWarning)\n",
            "/usr/local/lib/python3.6/dist-packages/rpy2/rinterface/__init__.py:146: RRuntimeWarning: \n",
            "Attaching package: ‘skimr’\n",
            "\n",
            "\n",
            "  warnings.warn(x, RRuntimeWarning)\n",
            "/usr/local/lib/python3.6/dist-packages/rpy2/rinterface/__init__.py:146: RRuntimeWarning: The following object is masked from ‘package:stats’:\n",
            "\n",
            "    filter\n",
            "\n",
            "\n",
            "  warnings.warn(x, RRuntimeWarning)\n"
          ],
          "name": "stderr"
        },
        {
          "output_type": "display_data",
          "data": {
            "text/plain": [
              "Skim summary statistics\n",
              " n obs: 10175 \n",
              " n variables: 17 \n",
              "\n",
              "── Variable type:factor ────────────────────────────────────────────────────────\n",
              "    variable missing complete     n n_unique\n",
              "  broke.nose    6360     3815 10175        3\n",
              "        choc    6648     3527 10175        4\n",
              "    cur.asth     405     9770 10175        3\n",
              " curr.smoker    3007     7168 10175        4\n",
              "   ever.asth     406     9769 10175        4\n",
              " ever.smoker    4062     6113 10175        3\n",
              "      gender       0    10175 10175        2\n",
              " nas.congest    6360     3815 10175        3\n",
              "       runny    6467     3708 10175        2\n",
              "                               top_counts ordered\n",
              "       NA: 6360, no: 3271, yes: 538, 9: 6   FALSE\n",
              "  NA: 6648, Cho: 2901, Smo: 356, Bla: 150   FALSE\n",
              "       no: 8814, yes: 939, NA: 405, 9: 17   FALSE\n",
              " Nev: 4589, NA: 3007, Not: 1347, Eve: 992   FALSE\n",
              "       no: 8222, yes: 1538, NA: 406, 9: 8   FALSE\n",
              "    NA: 4062, no: 3532, yes: 2579, don: 2   FALSE\n",
              "              fem: 5172, mal: 5003, NA: 0   FALSE\n",
              "      NA: 6360, no: 2677, yes: 1131, 9: 7   FALSE\n",
              "             NA: 6467, no: 3287, yes: 421   FALSE\n",
              "\n",
              "── Variable type:integer ───────────────────────────────────────────────────────\n",
              "    variable missing complete     n     mean      sd    p0     p25   p50\n",
              "         age       0    10175 10175    31.48   24.42     0    10      26\n",
              "   age.smoke    7596     2579 10175    21.33   64.32     0    15      17\n",
              "          id       0    10175 10175 78644    2937.41 73557 76100.5 78644\n",
              " num.smokers    7723     2452 10175     0.8     0.87     0     0       1\n",
              "     p75  p100     hist\n",
              "    52      80 ▇▅▃▃▃▃▂▂\n",
              "    20     999 ▇▁▁▁▁▁▁▁\n",
              " 81187.5 83731 ▇▇▇▇▇▇▇▇\n",
              "     1       3 ▇▁▅▁▁▃▁▁\n",
              "\n",
              "── Variable type:numeric ───────────────────────────────────────────────────────\n",
              " variable missing complete     n   mean    sd    p0    p25    p50    p75   p100\n",
              "   height    1108     9067 10175 155.88 23.18 79.7  149.5  162    171.05 202.6 \n",
              "     lead    4960     5215 10175   1.11  1.28  0.07   0.5    0.78   1.28  34.11\n",
              "  mercury    4960     5215 10175   1.09  2.09  0.2    0.2    0.5    1.06  46.39\n",
              "   weight     452     9723 10175  62.6  32.33  3.1   37.95  65.3   83.5  222.6 \n",
              "     hist\n",
              " ▁▁▁▁▃▇▅▁\n",
              " ▇▁▁▁▁▁▁▁\n",
              " ▇▁▁▁▁▁▁▁\n",
              " ▅▅▇▃▁▁▁▁\n"
            ]
          },
          "metadata": {
            "tags": []
          }
        }
      ]
    },
    {
      "cell_type": "code",
      "metadata": {
        "id": "le3qLk5an518",
        "colab_type": "code",
        "outputId": "0746678f-4a64-46f5-ddf1-4ce301e68952",
        "colab": {
          "base_uri": "https://localhost:8080/",
          "height": 851
        }
      },
      "source": [
        "%%R\n",
        "\n",
        "skim(rm.nas)"
      ],
      "execution_count": 0,
      "outputs": [
        {
          "output_type": "display_data",
          "data": {
            "text/plain": [
              "Skim summary statistics\n",
              " n obs: 6113 \n",
              " n variables: 17 \n",
              "\n",
              "── Variable type:factor ────────────────────────────────────────────────────────\n",
              "    variable missing complete    n n_unique\n",
              "        choc    2586     3527 6113        4\n",
              " curr.smoker       0     6113 6113        4\n",
              " ever.smoker       0     6113 6113        3\n",
              "      gender       0     6113 6113        2\n",
              "       runny    2405     3708 6113        2\n",
              "                               top_counts ordered\n",
              "  Cho: 2901, NA: 2586, Smo: 356, Bla: 150   FALSE\n",
              " Nev: 3534, Not: 1347, Eve: 992, Som: 240   FALSE\n",
              "       no: 3532, yes: 2579, don: 2, NA: 0   FALSE\n",
              "              fem: 3197, mal: 2916, NA: 0   FALSE\n",
              "             no: 3287, NA: 2405, yes: 421   FALSE\n",
              "\n",
              "── Variable type:integer ───────────────────────────────────────────────────────\n",
              "    variable missing complete    n     mean      sd    p0   p25   p50   p75\n",
              "         age       0     6113 6113    47.39   18.47    18    32    47    62\n",
              "   age.smoke    3665     2448 6113    17.98    5.3      7    15    17    20\n",
              "          id       0     6113 6113 78684.74 2920.81 73557 76180 78735 81179\n",
              " num.smokers    4569     1544 6113     0.84    0.88     0     0     1     1\n",
              "  p100     hist\n",
              "    80 ▇▆▇▇▆▆▅▆\n",
              "    64 ▂▇▂▁▁▁▁▁\n",
              " 83729 ▇▇▇▇▇▇▇▇\n",
              "     3 ▇▁▆▁▁▃▁▁\n",
              "\n",
              "── Variable type:logical ───────────────────────────────────────────────────────\n",
              "    variable missing complete    n mean count\n",
              "  broke.nose    6113        0 6113  NaN  6113\n",
              "    cur.asth    6113        0 6113  NaN  6113\n",
              "   ever.asth    6113        0 6113  NaN  6113\n",
              " nas.congest    6113        0 6113  NaN  6113\n",
              "\n",
              "── Variable type:numeric ───────────────────────────────────────────────────────\n",
              " variable missing complete    n   mean    sd     p0    p25    p50    p75   p100\n",
              "   height     256     5857 6113 167.09 10.16 135.4  159.7  166.7  174.3  202.6 \n",
              "     lead    3266     2847 6113   1.33  1.41   0.07   0.62   0.99   1.56  24.6 \n",
              "  mercury    3266     2847 6113   1.54  2.64   0.2    0.4    0.76   1.6   46.39\n",
              "   weight     253     5860 6113  80.98 22.17  32.3   65.5   77.7   92.3  222.6 \n",
              "     hist\n",
              " ▁▂▆▇▆▃▁▁\n",
              " ▇▁▁▁▁▁▁▁\n",
              " ▇▁▁▁▁▁▁▁\n",
              " ▂▇▆▂▁▁▁▁\n"
            ]
          },
          "metadata": {
            "tags": []
          }
        }
      ]
    },
    {
      "cell_type": "markdown",
      "metadata": {
        "id": "DUlQxFNLkCye",
        "colab_type": "text"
      },
      "source": [
        "# Linear models & L.A.\n",
        "(The other L.A. -- linear algebra!)\n"
      ]
    },
    {
      "cell_type": "markdown",
      "metadata": {
        "id": "3oXp5gJyAntj",
        "colab_type": "text"
      },
      "source": [
        "## On the notation of higher dimensions:\n",
        "\n",
        "Some time in the 1930s, Edgar Anderson collected data on three types of closely related iris flowers to quantify the variation between species.\n",
        "\n",
        "For each flower, he recorded three measurements. We call this collection of measurements a vector, $\\mathbf{y}$:\n",
        "\n",
        "$$\n",
        "\\mathbf{y} = \\begin{bmatrix}\n",
        "        y_1 \\text{(length of petal)} \\\\\n",
        "        y_2 \\text{(length of sepal)}\\\\\n",
        "        y_3 \\text{(width of sepal)}\n",
        "      \\end{bmatrix}\n",
        "$$\n",
        "Ronald Fisher published this data in 1936 in a paper titled *The use of multiple measurements in taxonomic problems* and so this data set has come to be known as [Fisher's/Anderson's iris flower data](https://en.wikipedia.org/wiki/Iris_flower_data_set)\n",
        "\n",
        "Bold lower case letters, such as $\\mathbf{y}$ represent **vectors** and hold collections of individual numbers.\n",
        "\n",
        "An individual number (a.k.a. a **scalar**) is denoted by a lower case english or greek letter with a subscript, e.g.\n",
        "\n",
        "*   $y_1$ is a number\n",
        "*   $\\beta_5$ (\"beta 5'') is a number.\n",
        "*   $\\epsilon_2$ (\"epsilon 2\") is a number.\n",
        "\n",
        "Vectors can be written either vertically (a \"column\" vector) like above, or horizontally, like the \"row\" vector:\n",
        "$$\n",
        "    \\mathbf{y} ^T = \\{ y_1 , y_2, y_3, \\ldots, y_n\\}.\n",
        " $$\n",
        "Typically, the default is to write a vector as a column vector. Row vector equivalents are written with a small 'T' superscript indicating the vector has been **T**ransposed.\n",
        "\n",
        "<img src=\"http://media.getty.edu/museum/images/web/enlarge/00094701.jpg\" width=\"600\" height=\"500\" />\n",
        "\n",
        "van Gogh's irises, you can see the original at [the Getty museum](http://www.getty.edu/art/collection/objects/826/vincent-van-gogh-irises-dutch-1889/) here in L.A. !\n",
        "\n",
        "Each $n$-dimensional vector represents a point in $n$ dimensional space.\n",
        "\n",
        "Let's visualize the Edgar's data in three-dimensional space."
      ]
    },
    {
      "cell_type": "code",
      "metadata": {
        "id": "ZMmsCXm6XGiE",
        "colab_type": "code",
        "outputId": "96c38d00-7a40-4f3d-cd03-2a2b14f8977e",
        "colab": {
          "base_uri": "https://localhost:8080/",
          "height": 1000
        }
      },
      "source": [
        "%%R\n",
        "install.packages(\"scatterplot3d\"); # install pkg with 3d plotting function\n",
        "require(scatterplot3d); # load pkg\n",
        "uclaBlue = rgb(matrix(c(39/255, 116/255, 174/255), ncol = 3, nrow = 1)) # make UCLA blue from RBG values\n",
        "scatterplot3d(iris[,1:3], pch = 19, color=uclaBlue) "
      ],
      "execution_count": 0,
      "outputs": [
        {
          "output_type": "stream",
          "text": [
            "/usr/local/lib/python3.6/dist-packages/rpy2/rinterface/__init__.py:146: RRuntimeWarning: Installing package into ‘/usr/local/lib/R/site-library’\n",
            "(as ‘lib’ is unspecified)\n",
            "\n",
            "  warnings.warn(x, RRuntimeWarning)\n",
            "/usr/local/lib/python3.6/dist-packages/rpy2/rinterface/__init__.py:146: RRuntimeWarning: trying URL 'https://cran.rstudio.com/src/contrib/scatterplot3d_0.3-41.tar.gz'\n",
            "\n",
            "  warnings.warn(x, RRuntimeWarning)\n",
            "/usr/local/lib/python3.6/dist-packages/rpy2/rinterface/__init__.py:146: RRuntimeWarning: Content type 'application/x-gzip'\n",
            "  warnings.warn(x, RRuntimeWarning)\n",
            "/usr/local/lib/python3.6/dist-packages/rpy2/rinterface/__init__.py:146: RRuntimeWarning:  length 460912 bytes (450 KB)\n",
            "\n",
            "  warnings.warn(x, RRuntimeWarning)\n",
            "/usr/local/lib/python3.6/dist-packages/rpy2/rinterface/__init__.py:146: RRuntimeWarning: =\n",
            "  warnings.warn(x, RRuntimeWarning)\n",
            "/usr/local/lib/python3.6/dist-packages/rpy2/rinterface/__init__.py:146: RRuntimeWarning: \n",
            "\n",
            "  warnings.warn(x, RRuntimeWarning)\n",
            "/usr/local/lib/python3.6/dist-packages/rpy2/rinterface/__init__.py:146: RRuntimeWarning: downloaded 450 KB\n",
            "\n",
            "\n",
            "  warnings.warn(x, RRuntimeWarning)\n",
            "/usr/local/lib/python3.6/dist-packages/rpy2/rinterface/__init__.py:146: RRuntimeWarning: \n",
            "  warnings.warn(x, RRuntimeWarning)\n",
            "/usr/local/lib/python3.6/dist-packages/rpy2/rinterface/__init__.py:146: RRuntimeWarning: The downloaded source packages are in\n",
            "\t‘/tmp/Rtmp6K5lqj/downloaded_packages’\n",
            "  warnings.warn(x, RRuntimeWarning)\n",
            "/usr/local/lib/python3.6/dist-packages/rpy2/rinterface/__init__.py:146: RRuntimeWarning: Loading required package: scatterplot3d\n",
            "\n",
            "  warnings.warn(x, RRuntimeWarning)\n"
          ],
          "name": "stderr"
        },
        {
          "output_type": "display_data",
          "data": {
            "image/png": "[encoded data removed]"
          },
          "metadata": {
            "tags": []
          }
        }
      ]
    },
    {
      "cell_type": "markdown",
      "metadata": {
        "id": "h1YvZVBF3v2_",
        "colab_type": "text"
      },
      "source": [
        "When we have many observations, as in the iris data set displayed above, we collect each vector of observations into a **matrix**. Matrices are collections of vectors and are represented by capital letters, e.g.\n",
        "\n",
        "$$\n",
        "X = \\begin{bmatrix}\n",
        "    5.1 & 3.5 & 1.4\\\\\n",
        "    4.9 & 3.0 & 1.4\\\\\n",
        "    4.7 & 3.2 & 1.3\\\\\n",
        "    4.6 & 3.1 & 1.5\n",
        "  \\end{bmatrix}\n",
        "$$\n",
        "\n",
        "$X$ is a \"4 x 3\" (read: \"four by three\") matrix, meaning it has 4 rows and 3 columns. It can be viewed as a collection of three column vectors, or more typical for our purposes, as a collection of four row vectors. \n",
        "\n",
        "The above matrix represents four different iris flower measurements:\n",
        "\n",
        "\n",
        " \n",
        "\n"
      ]
    },
    {
      "cell_type": "code",
      "metadata": {
        "id": "Gx9cyCh6PPtM",
        "colab_type": "code",
        "outputId": "0c907048-5ef6-4c6c-beb7-03c1389e4d9f",
        "colab": {
          "base_uri": "https://localhost:8080/",
          "height": 104
        }
      },
      "source": [
        "%%R\n",
        "# print to screen the annotated matrix:\n",
        "iris[1:4,1:3]\n",
        "# ?iris # to learn more about the iris data set, (there are 5 observations in all!)"
      ],
      "execution_count": 0,
      "outputs": [
        {
          "output_type": "display_data",
          "data": {
            "text/plain": [
              "  Sepal.Length Sepal.Width Petal.Length\n",
              "1          5.1         3.5          1.4\n",
              "2          4.9         3.0          1.4\n",
              "3          4.7         3.2          1.3\n",
              "4          4.6         3.1          1.5\n"
            ]
          },
          "metadata": {
            "tags": []
          }
        }
      ]
    },
    {
      "cell_type": "markdown",
      "metadata": {
        "id": "nG5vA13mPQEu",
        "colab_type": "text"
      },
      "source": [
        "___\n",
        "\n",
        "**\"Great things are done by a series of small things brought together.\" -Vincent van Gogh**\n",
        "\n",
        "And so we proceed with the first of many small things...\n",
        "## Some vocabulary\n",
        "\n",
        "**Linear regression** is a simple way to mathematically model the relationship between two or more observed phenomena. \n",
        "\n",
        "Ex: age, height\n",
        "\n",
        "We always designate one, and only one of our observations to be the **outcome variable** although you may also hear it referred to as the `response`, `dependent variable` or even simply $\\mathbf{y}$.\n",
        "All other observations are termed **predictors** although you may also hear them referred to as the `independent variables`, `regressors`, `covariates`, `features`, `the data`, or even \"the $X$ matrix\", but we'll get to that later.\n",
        "\n",
        "To make this idea a little more concrete, let's consider a real world example. Professor X tells you more [mutants](https://en.wikipedia.org/wiki/Mutant_(Marvel_Comics)) are popping up all over the world and it's his job to help them. Mutants possess a genetic trait called the \"X-gene\" that gives them super-human abilities that manifest during puberty. Unfortunately, the professor explains, discretely genotyping thousands of potential mutants is expensive and so he would like you to put together a model to help him identify young mutant's \"mutant factor\" without genetic testing. The professor tells you his theory that most mutants undergo traumatic events as children and have high exposure to carcinogens such as those present in cigarette smoke. Note: mutant factors above 1 indicate mutant status.\n",
        "\n",
        "In order to make predictions about a person's mutant status, you set up a **linear model**.\n",
        "\n",
        "$$\n",
        "\\beta_1 \\mathbb{1}_{\\{\\text{traumatic event}\\}} + \\beta_2 \\frac{\\text{no. of cigarettes}}{\\text{day}} + \\beta_3 + \\epsilon_1 = \\text{mutant-factor}\n",
        "$$\n",
        "\n",
        "where $\\beta_1$, $\\beta_2$ and $\\beta_3$ are coefficients, just numbers, that you are interested in learning about. (We'll talk about epsilon in a bit). Importantly, it's the $\\beta$'s themselves that are **linear**. The \"linear'' in \"linear regression\" refers to the fact that we are interested in predicting some outcome variable by taking a [**linear combination**](https://en.wikipedia.org/wiki/Linear_combination) of predictors. \n",
        "\n",
        "Let's pause a moment and contemplate. We are looking at three measurements: presence of traumatic event, no. of cigarettes per day and mutant factor. Since there are three, we can visualize this matrix of observations in three dimensional space. But what does a linear equation \"look\" like?\n",
        "\n",
        "Before moving to the 3D code...let's think about 1-D and 2-D on the board. \n",
        "\n",
        "*   Thinking point #1: Dimensionality refers to the number of axes in which you can move.\n",
        "*   Thinking point #2: a linear equation generates an $n-1$ dimensional object. "
      ]
    },
    {
      "cell_type": "code",
      "metadata": {
        "id": "h7dPlXl3Lo4o",
        "colab_type": "code",
        "outputId": "97341386-6e6f-4641-dd27-fbefcce0b85c",
        "colab": {
          "base_uri": "https://localhost:8080/",
          "height": 497
        }
      },
      "source": [
        "%%R\n",
        "# Previous data kindly supplied to us by Professor X:\n",
        "set.seed(6)\n",
        "N = 20 # no. of individuals under study\n",
        "trauma = rbinom(N, 1, .5) # 1 for trauma, 0 for no trauma\n",
        "cigPerDay = floor(rexp(N,.25)) #floor rounds down to the nearest whole number\n",
        "beta = c(.5, .07, 0)\n",
        "\n",
        "mutant = abs(beta[1]*trauma + beta[2]*(cigPerDay^2) + beta[3] + rnorm(N, 0, 1))\n",
        "\n",
        "plot3d = scatterplot3d(trauma, cigPerDay, mutant, pch = 19, color=uclaBlue)\n",
        "model  = lm(mutant ~ trauma + cigPerDay)\n",
        "plot3d$plane3d(model)\n",
        "# length(which(mutant>1))\n",
        "# sum((model$residuals)^2)"
      ],
      "execution_count": 0,
      "outputs": [
        {
          "output_type": "display_data",
          "data": {
            "image/png": "[encoded data removed]"
          },
          "metadata": {
            "tags": []
          }
        }
      ]
    },
    {
      "cell_type": "markdown",
      "metadata": {
        "id": "24tF_W2BxOCX",
        "colab_type": "text"
      },
      "source": [
        "It turns out that a linear model states that we believe there is some [**hyperplane**](https://en.wikipedia.org/wiki/Hyperplane) that adequately describes the geometric relationship between predictors and outcomes.\n",
        "\n",
        "What if we believe the relationship we believe the model is slightly different, say:\n",
        "\n",
        "$$\n",
        "\\beta_1 1_{\\text{traumatic event}} + \\beta_2 \\left( \\frac{\\text{no. of cigarettes}}{\\text{day}} \\right)^2 + \\beta_3 + \\epsilon_1 = \\text{mutant-factor}\n",
        "$$\n",
        "\n",
        "What changed? Is this still a linear model? "
      ]
    },
    {
      "cell_type": "code",
      "metadata": {
        "id": "FwF_BT-5y1PH",
        "colab_type": "code",
        "outputId": "c91b728b-1218-48fb-8be4-c50286ff97f7",
        "colab": {
          "base_uri": "https://localhost:8080/",
          "height": 497
        }
      },
      "source": [
        "%%R\n",
        "cigSquared = cigPerDay^2\n",
        "plot3d = scatterplot3d(trauma, cigSquared, mutant, pch = 19, color=uclaBlue)\n",
        "\n",
        "model  = lm(mutant ~ trauma + cigSquared)\n",
        "plot3d$plane3d(model)\n",
        "# sum((model$residuals)^2)"
      ],
      "execution_count": 0,
      "outputs": [
        {
          "output_type": "display_data",
          "data": {
            "image/png": "[encoded data removed]"
          },
          "metadata": {
            "tags": []
          }
        }
      ]
    },
    {
      "cell_type": "markdown",
      "metadata": {
        "id": "t9aRQC3z3KKy",
        "colab_type": "text"
      },
      "source": [
        "What changed was $\\underline{\\text{the axes}}$. \n",
        "____\n",
        "\n",
        "## What about $\\epsilon$ ?\n",
        "\n",
        "As discussed earlier, no model is perfect, even the best are not true representations of reality. There are simply some things we cannot account for. For example, does the individual have a family history of mutants? Have they been exposed to high levels of radiation in their life time? Do we believe the data we did acquire? Was the number of cigarettes smoked per day self-reported?\n",
        "\n",
        "In any event, we don't know the whole picture -- there is always something unnacounted for that is affecting our outcome variable. To deal with this extra bit of unobserved nonsense or noise, we lump  it all together and call it \"$\\epsilon$\" (read:\"epsilon\"). We say $\\epsilon$ is a random variable with some distribution. \n",
        "\n",
        "The most elementary assumption (and still often a useful one) is that \n",
        "$$\n",
        "\\epsilon_i \\sim N(0, 1)\n",
        "$$\n",
        "\n",
        "i.e. the noise the $i$th observation is normally distributed with mean $0$ and variance $1$.\n",
        "____"
      ]
    },
    {
      "cell_type": "markdown",
      "metadata": {
        "id": "SLHR1hef8pdx",
        "colab_type": "text"
      },
      "source": [
        "## Rewrite the model\n",
        "\n",
        "We have the model \n",
        "$$\n",
        "\\beta_1 1_{\\text{traumatic event}} + \\beta_2 \\left( \\frac{\\text{no. of cigarettes}}{\\text{day}} \\right)^2 + \\beta_3 + \\epsilon_1 = \\text{mutant-factor}\n",
        "$$\n",
        "\n",
        "but it is somewhat cumbersome to write.\n",
        "\n",
        "The first order of business is to rewrite the model in a succint, generalizable fashion.\n",
        "\n",
        "We can begin generalizing by renaming the predictors to \"$x_1$\" and \"$x_2$\" and by labeling the outcome variable \"$y$\". This notation is standard. \n",
        "\n",
        "$$\n",
        "\\beta_1 x_1 + \\beta_2 x_2 + \\beta_3 + \\epsilon_1 = y_1\n",
        "$$\n",
        "\n",
        "As we are using all subscripts, the above equation describes a single observation. We can collect our predictors $x_1$ and $x_2$ into a data matrix $X$ using matrix-vector notation.\n",
        "\n",
        "$$\n",
        "X \\beta + \\epsilon = \\mathbf{y}\n",
        "$$\n",
        "\n",
        "Did I lose you? Let's take a look a closer look on the board.\n",
        "\n",
        "\n",
        "\n",
        "*   Thinking point #1: matrix vector form is a **system of linear equations**\n",
        "\n"
      ]
    },
    {
      "cell_type": "markdown",
      "metadata": {
        "id": "pCaK2gLW_7e9",
        "colab_type": "text"
      },
      "source": [
        "## Hunt for the hyperplane!\n",
        "\n",
        "Our model describes the process (a.k.a. the \"data generative process\") that we believe generates mutant factors. In summary, we believe it mainly has to do with trauma and cigarettes. The rest is epsilon to us. \n",
        "\n",
        "To build our model, we start with $X$ and $\\mathbf{y}$. We know $X$. We know $\\mathbf{y}$. We have a description for $\\epsilon$'s distribution. What we don't know and want to estimate is $\\beta$. If our model is correct, (and it's not, but suspend disbelief for now!) then $\\beta$ has some true value that is unknown to us. In order to distinguish our estimate for $\\beta$ from the true value, we will give **our estimate** a new name: \"beta hat\", $\\hat{\\beta}$, (because it wears a hat).\n",
        "\n",
        "The actual \"model\" model that we will use for making future predictions about mutants is\n",
        "$$\n",
        "\\mathbf{\\hat{y}} = X \\hat{\\beta}\n",
        "$$\n",
        "\n",
        "Guess why we have the hat on $\\mathbf{y}$! (Because it's our predicted outcome, not the actual outcome)\n",
        "\n",
        "How do we find $\\hat{\\beta}$?\n",
        "\n",
        "By choosing an **objective function**.\n",
        "An objective function is some criteria we care about minimizing or maximizing (in other words, \"optimizing\") and it's what makes one hyperplane better than all the rest.\n",
        "\n",
        "Let's turn our attention to one common objective function known as \"least squares\".\n"
      ]
    },
    {
      "cell_type": "code",
      "metadata": {
        "id": "h-I5HoURJC7M",
        "colab_type": "code",
        "outputId": "58a9e435-de28-42e8-e6ca-9a45dea3047a",
        "colab": {
          "base_uri": "https://localhost:8080/",
          "height": 497
        }
      },
      "source": [
        "%%R\n",
        "# example where we ignore the \"trauma\" dimension.\n",
        "plot(cigSquared, mutant, pch=19, col = uclaBlue) # plot points\n",
        "\n",
        "# set beta_hat and mutant_hat\n",
        "beta_hat = rev(model$coefficients) \n",
        "mutant_hat = cigSquared*beta_hat[1] + beta_hat[3]\n",
        "westWoodGold = rgb(matrix(c(242/255, 169/255, 0), ncol = 3, nrow = 1))\n",
        "abline(beta_hat[3], beta_hat[1], col = westWoodGold) # add regression line\n",
        "arrows(cigSquared, mutant, cigSquared, mutant_hat, length=0.08, angle=90, code=3) # add error lines\n",
        "\n",
        "#beta_hat\n"
      ],
      "execution_count": 0,
      "outputs": [
        {
          "output_type": "display_data",
          "data": {
            "image/png": "[encoded data removed]"
          },
          "metadata": {
            "tags": []
          }
        }
      ]
    },
    {
      "cell_type": "markdown",
      "metadata": {
        "id": "NB3_XNaDQaa0",
        "colab_type": "text"
      },
      "source": [
        "Each vertical line is known as an error bar and shows the residual error, $\\epsilon$. In other words each vertical line displays the difference between our prediction, $\\hat{y} = X \\hat{\\beta}$, and our observations: $y = X \\beta + \\epsilon$.\n",
        "\n",
        "Naturally, we wish to minimize the error in our prediction. How might we formulate our desire mathematically? We could try to minimize $\\sum_{i=1}^n \\epsilon_i$, but if we think about it, this will not work well. Why? Because large positive errors will offset large negative errors to yield an overall *small* sum of errors. One remedy that arises is to minimize $\\sum_{i=1}^n | \\epsilon_i |$, and this is a viable option known as least absolute value (LAV) regression. Here, however, we will unpack the canonical \"least squares\" method. It is important to understand that we must $\\underline{\\text{choose}}$ the objective function that we want to optimize.\n",
        "\n",
        "The least squares objective function:\n",
        "$$\n",
        "\\sum_{i=1}^n \\epsilon_i ^2 = \\left( y_i - x_1 \\beta_1 - x_2 \\beta_2 - \\ldots - x_n \\beta_n \n",
        "- \\beta_{n+1} \\right)^2\n",
        "$$\n",
        "is known as the **residual sum of squares** but you may also see it called the \"sum of squared residuals\". What do we know in the above equation? What are we trying to \"optimize over\"? How do you think we would write this in vector notation?"
      ]
    },
    {
      "cell_type": "markdown",
      "metadata": {
        "id": "fNarx8gZX2c9",
        "colab_type": "text"
      },
      "source": [
        "### Solution\n"
      ]
    },
    {
      "cell_type": "markdown",
      "metadata": {
        "id": "0JazWV8oYhfO",
        "colab_type": "text"
      },
      "source": [
        "$$\n",
        "\\epsilon ^ T \\epsilon = \\left( \\mathbf{y} - X \\beta \\right) ^ T \\left( \\mathbf{y} - X \\beta \\right)\n",
        "$$"
      ]
    },
    {
      "cell_type": "markdown",
      "metadata": {
        "id": "RUlE3K8PpLJf",
        "colab_type": "text"
      },
      "source": [
        "### $\\hat{\\beta}$ \n",
        "\n",
        "It turns out that the residual sum of squares can be optimized analytically (that is, on pen and paper) using techniques from calculus. Take a look at the [appendix](#scrollTo=JLwIM1z6zytp) if you want to see the details of the derivation. Here we present the important part, the result:\n",
        "\n",
        "$$\n",
        "\\hat{\\beta} = (X ^T X)^{-1} X ^T y\n",
        "$$\n",
        "\n",
        "How does this connect with the hyperplane we found in R?"
      ]
    },
    {
      "cell_type": "code",
      "metadata": {
        "id": "AFsnAzEe3_06",
        "colab_type": "code",
        "outputId": "b220b0ae-4a9d-46a0-b1d8-7e5c504ad1f9",
        "colab": {
          "base_uri": "https://localhost:8080/",
          "height": 104
        }
      },
      "source": [
        "%%R\n",
        "cat(c(\"coefficients generated from R's lm function:\\n\", beta_hat)) # prints the coefficients from using the built in R machinery for multiple linear regression.\n",
        "\n",
        "vector_of_ones = rep(1,N) # creates a column vector of 1s, why is this in our X matrix? Hint: multiply it out.\n",
        "X = matrix(c(cigSquared, trauma, vector_of_ones), ncol = 3, nrow = N, byrow = FALSE) # create data matrix X where first two columns are observations\n",
        "y = mutant # our outcome variable\n",
        "\n",
        "test_beta_hat = solve(t(X) %*% X) %*% t(X) %*% y # our formula above, directly written in R-code\n",
        "cat(c(\"\\n \\n coefficients generated using analytic formula:\\n\", t(test_beta_hat)))\n"
      ],
      "execution_count": 0,
      "outputs": [
        {
          "output_type": "display_data",
          "data": {
            "text/plain": [
              "coefficients generated from R's lm function:\n",
              " 0.0629765356927361 0.455086022826997 0.484013974058961\n",
              " \n",
              " coefficients generated using analytic formula:\n",
              " 0.0629765356927361 0.455086022826996 0.484013974058961"
            ]
          },
          "metadata": {
            "tags": []
          }
        }
      ]
    },
    {
      "cell_type": "markdown",
      "metadata": {
        "id": "ziMe3Cdz5Zfd",
        "colab_type": "text"
      },
      "source": [
        "## Linear regression summary\n",
        "So to summarize the technique of linear regression:\n",
        "\n",
        "Linear regression finds estimates ($\\hat{\\beta}$) for coefficients $\\beta$ in order to find the hyperplane that \"best\" describes the observed outcome variable $y$ using observed predictor variables $X$, even in the presence of some random noise (error) $\\epsilon$.\n",
        "\n",
        "\n",
        "\n",
        "\n",
        "*   Thinking point #1: thoughts on limitations?\n",
        "\n"
      ]
    },
    {
      "cell_type": "markdown",
      "metadata": {
        "id": "Z1rwv5VN93ZV",
        "colab_type": "text"
      },
      "source": [
        "# Assumptions\n",
        "\n",
        "## Independence\n",
        "Observing (sampling) one individual (realization of the RV) does not affect the probability of observing any other individual.\n",
        "\n",
        "Good example: the sex of the first child has no effect on the sex of the second child.\n",
        "\n",
        "Probability of observing both is simply the product of the probability of observing each one. They are \"orthogonal\".\n",
        "\n",
        "What happens with time-series data?\n",
        "\n",
        "## Identically Distributed\n",
        "Each observation (individual) comes from the exact same underlying distribution.\n",
        "\n",
        "## Causality\n",
        "$$ Y \\leftarrow X $$\n",
        "\n",
        "## Confounding \n",
        "\n",
        "<center><img src=\"https://upload.wikimedia.org/wikipedia/commons/thumb/b/b8/Simple_Confounding_Case.svg/200px-Simple_Confounding_Case.svg.png\" width=\"80\" height=\"80\"/> </center>\n",
        "\n",
        "## Measurement\n",
        "You are measuring the right thing, AND that your measure is accurate. \n",
        "\n",
        "Measurements can be biased:\n",
        "* if the probability of observing something is correlated with the measure. \n",
        "* If the instruments are not calibrated correctly\n",
        "* If your definition of the object being measured is off\n",
        "\n",
        "Measurements can be noisy:\n",
        "* If the object being measured is hard to define (a common solution to this problem is factor analysis)\n",
        "* If the instrument is imperfect\n",
        "\n",
        "## Normality\n",
        "Assuming a normal distribution from a set of measurements is too frequently done. It simplifies analysis downstream (the Normal distribution is very easy to work with), but abusing this assumption will leave many observations unexplained, or lead to erroneous conclusions.\n",
        "\n",
        "## Validity \n",
        "The sample you are observing is representative of the population that is being studied. And therefore the conclusions drawn from this sample apply to the general population (Generalization). Basically, you can predict how the next sample will look like from this sample (replicability).\n",
        "\n",
        "It is usually fine to Interpolate. This means that if you are studying a phenomenon that happens withing some defined space, your model will work well withing that space. But outside of that space you are Extrapolating, and there is no guarantee that your model will perform well in uncharted territory.\n",
        "\n",
        "## And [many](https://en.wikipedia.org/wiki/Misuse_of_statistics) more..."
      ]
    },
    {
      "cell_type": "markdown",
      "metadata": {
        "id": "yTB7YbXxyGlE",
        "colab_type": "text"
      },
      "source": [
        "# Plotting\n",
        "Plotting should help you explore and communicate data. It is a simple way to identify obvious patterns and define the hypothesis to be tested. It should be treated as a _careful craft_. Failing to put enough time and effort in your visualizations can lead to a lot of confusion, and event to make the wrong assumptions.\n",
        "You should choose your favorite plotting libraries in Python ([matplotlib](https://datacamp-community-prod.s3.amazonaws.com/28b8210c-60cc-4f13-b0b4-5b4f2ad4790b) and [seaborn](https://s3.amazonaws.com/assets.datacamp.com/blog_assets/Python_Seaborn_Cheat_Sheet.pdf)) or R [(ggplot2)](https://github.com/rstudio/cheatsheets/raw/master/data-visualization-2.1.pdf)\n"
      ]
    },
    {
      "cell_type": "markdown",
      "metadata": {
        "id": "kGlBhlROyI5I",
        "colab_type": "text"
      },
      "source": [
        "# Classification [Performance Metrics](https://classeval.wordpress.com/introduction/)\n",
        "\n",
        " | Prediction   | Negatives      | Positives      |\n",
        " | :---         | :---:          | :---:          |\n",
        " | **Negative** | True Negative  | False Negative |\n",
        " | **Positive** | False Positive | True Positive  |\n",
        "\n",
        "<center><img src=\"https://classeval.files.wordpress.com/2015/06/four-outcomes-of-classifier.png?w=480&h=202\" width=\"480\" height=\"200\"/></center>\n",
        "\n",
        "Accuracy: $$\\frac{TP + TN}{TP + FP + TN + FN}$$\n",
        "\n",
        "Precission: $$\\frac{TP}{TP + FP}$$\n",
        "\n",
        "Recall or Sensitivity: $$\\frac{TP}{TP + FN}$$\n",
        "\n",
        "Specificity: $$\\frac{TN}{TN + FP}$$\n",
        "\n",
        "F1-score: $$\\frac{2 * (Precision * Recall)}{Precision + Recall}$$\n",
        "\n",
        "**Area Under the ROC curve (AUROC):**\n",
        "\n",
        "<center><img src=\"https://cdn-images-1.medium.com/max/800/1*OBZ6Z1_i_iF9qj4R6I4eUA.png\" width=\"300\" height=\"400\" /></center>\n",
        "\n",
        "**Precision-Recall curve:**\n",
        "\n",
        "<center>\n",
        "<img src=\"https://classeval.files.wordpress.com/2015/06/two-precision-recall-curves.png?w=260&h=260\" width=\"282\" height=\"282\"/>\n",
        "<img src=\"https://classeval.files.wordpress.com/2015/06/evaluation-measures-for-precision-recall.png?w=460&h=282\" width=\"460\" height=\"282\"/></center>\n",
        "\n"
      ]
    },
    {
      "cell_type": "markdown",
      "metadata": {
        "id": "7F9qyP3D-qLH",
        "colab_type": "text"
      },
      "source": [
        "# Logistic regression\n",
        "\n",
        "What if we wish to predict a binary outcome $y$? For example, we simply want to predict whether someone *is* a mutant or not. It is easy to see that least-squares linear regression will provide an inadequate model because the codomain will extends over the entire real line. In this situation we may turn to **linear logistic regression**, a typical model used to predict binary outcomes, $y_i = 0$ or $y_i = 1$.\n",
        "\n",
        "In linear logistic regression (also simply called \"logistic regression\"), a model is developed that prescribes to a set of predictors a probability for a binary outcome variable. The probability is related to the predictors via a **sigmoid link function**,\n",
        "\\begin{equation}\n",
        "\\newcommand{\\exponential}[1]{\\text{exp}\\{{#1}\\}}\n",
        "p(y_i = 1) = \\frac{1}{1+\\exponential{-x ^T \\beta}},\n",
        "\\end{equation}\n",
        "whose codomain is $(0,1)$. In this modeling scheme, one typically finds $\\hat{\\beta}$ by maximizing the **likelihood function**, (another objective function), typically written: $L(\\beta \\ | \\ X)$.\n",
        "\n",
        "\n"
      ]
    },
    {
      "cell_type": "code",
      "metadata": {
        "id": "SR24gVFOTEyH",
        "colab_type": "code",
        "outputId": "93bc730a-6e7d-42ea-9874-622c8df045f5",
        "colab": {
          "base_uri": "https://localhost:8080/",
          "height": 497
        }
      },
      "source": [
        "%%R\n",
        "sigmoid = function(x) 1 / (1 + exp(-x + 10))\n",
        "plot.function(sigmoid, from = 0, to = 20, n = 101, ylab=\"p(yi = 1)\", xlab=\"input\", lwd = 3)\n",
        "box()"
      ],
      "execution_count": 0,
      "outputs": [
        {
          "output_type": "display_data",
          "data": {
            "image/png": "[encoded data removed]"
          },
          "metadata": {
            "tags": []
          }
        }
      ]
    },
    {
      "cell_type": "markdown",
      "metadata": {
        "id": "PjA2ZIzqCpSn",
        "colab_type": "text"
      },
      "source": [
        "* Our goal in logistic regression is to build this predictive model.\n",
        "\n",
        "* Importantly, since all information from the data comes into the model via the term $x ^T \\beta$, we still call this a \"linear model\". \n",
        "\n",
        "There is a natural boundary along which we make our classification decision: $p(y_i) = 0.5$. This is a nice and intuitive default boundary for classification, however, you can choose to adjust this boundary. Why might you want to do that?\n",
        "\n",
        "* Ex: spam filter, any others?\n",
        "\n",
        "Let's choose a boundary of $0.5$, and see what happens.\n",
        "\n",
        "* We are still drawing a hyperplane --only now, we view this hyperplane as a decision boundary. \n",
        "\n",
        "We recognize the fact that a hyperplane separates the whole space into two distinct regions."
      ]
    },
    {
      "cell_type": "markdown",
      "metadata": {
        "id": "DFwaRKOkZoqP",
        "colab_type": "text"
      },
      "source": [
        "## Odds ratio\n",
        "\n",
        "The **odds ratio** is \n",
        "\\begin{equation}\n",
        "\\frac{p_i}{1-p_i}\n",
        "\\end{equation}\n",
        "where $p_i \\in [0,1]$ is the probability $y_i = 1$. It can be thought of as the probability of success divided by the probability of failure (or vice versa).\n",
        "\n",
        "Importantly, this relates to logistic regression directly via some algebraic manipulation:\n",
        "\n",
        "\\begin{equation}\n",
        "\\newcommand{\\exponential}[1]{\\text{exp}\\{{#1}\\}}\n",
        "\\begin{aligned}\n",
        "p_i &= \\frac{1}{1+\\exponential{-x ^T \\beta}}\n",
        "\\frac{\\exponential{x ^T \\beta}}{\\exponential{x ^T \\beta}}\\\\\n",
        "p_i \\cdot \\exponential{x ^T \\beta} + p_i &= \\exponential{x ^T \\beta}\\\\\n",
        "p_i &= (1-p_i) \\cdot \\exponential{x ^T \\beta}\\\\\n",
        "\\frac{p_i}{1-p_i} &= \\exponential{x ^T \\beta}\\\\\n",
        "\\text{log} \\left( \\frac{p_i}{1-p_i} \\right) &= x ^T \\beta\n",
        "\\end{aligned}\n",
        "\\end{equation}\n",
        "\n",
        "The log-odds is called the **logit** function\n",
        "\n",
        "\n"
      ]
    },
    {
      "cell_type": "code",
      "metadata": {
        "id": "AmGUhr0lGi7F",
        "colab_type": "code",
        "outputId": "a973d16d-ac17-49bc-c288-10942adc3cb4",
        "colab": {
          "base_uri": "https://localhost:8080/",
          "height": 497
        }
      },
      "source": [
        "%%R\n",
        "# label mutants as those with mutant factor above 1:\n",
        "mutantLabel = vector(length=length(mutant))\n",
        "mutantLabel[which(mutant>1)] = 1\n",
        "mutantLabel[which(mutant<1)] = 0\n",
        "\n",
        "#examine the data:\n",
        "par(mfrow=c(1,2), pty = 's') # plot in 1 row with 2 columns and make axes 'square'\n",
        "plot(trauma, mutantLabel)\n",
        "plot(cigSquared, mutantLabel)"
      ],
      "execution_count": 0,
      "outputs": [
        {
          "output_type": "display_data",
          "data": {
            "image/png": "[encoded data removed]"
          },
          "metadata": {
            "tags": []
          }
        }
      ]
    },
    {
      "cell_type": "markdown",
      "metadata": {
        "id": "QjZ9xOieJH1m",
        "colab_type": "text"
      },
      "source": [
        "Looking at a single predictor paired with the outcome variable provides little insight into whether or not we will benefit from dividing the space via a hyperplane. Instead, let's look at our predictors:"
      ]
    },
    {
      "cell_type": "code",
      "metadata": {
        "id": "wQvxDGw5JUPY",
        "colab_type": "code",
        "outputId": "7b57cb53-26e2-4277-c458-7dfc5e723eff",
        "colab": {
          "base_uri": "https://localhost:8080/",
          "height": 17
        }
      },
      "source": [
        "%%R\n",
        "# for visualization purposes:\n",
        "# jitter = rep(0,20) # no jitter\n",
        "jitter = rnorm(20,1,1) # jitter\n",
        "plot(trauma, cigSquared + jitter, pch = 19, col = ifelse(mutantLabel==1, \"red\", uclaBlue)) #plot (trauma, cigSquared) colored by outcome.\n",
        "box()"
      ],
      "execution_count": 0,
      "outputs": [
        {
          "output_type": "display_data",
          "data": {
            "image/png": "[encoded data removed]"
          },
          "metadata": {
            "tags": []
          }
        }
      ]
    },
    {
      "cell_type": "markdown",
      "metadata": {
        "id": "M-xTWannMvFX",
        "colab_type": "text"
      },
      "source": [
        "Ultimately, we want to draw a hyperplane in the above diagram that serves as a boundary between mutants and non-mutants."
      ]
    },
    {
      "cell_type": "code",
      "metadata": {
        "id": "PRVNqHYCNf1P",
        "colab_type": "code",
        "outputId": "d33004ef-e616-490b-e032-38b9571c7344",
        "colab": {
          "base_uri": "https://localhost:8080/",
          "height": 17
        }
      },
      "source": [
        "%%R\n",
        "logitModel = glm(mutantLabel ~ trauma + cigSquared, family=binomial(link=\"logit\"))\n",
        "betaHat = logitModel$coefficients\n",
        "betaHat"
      ],
      "execution_count": 0,
      "outputs": [
        {
          "output_type": "display_data",
          "data": {
            "text/plain": [
              "(Intercept)      trauma  cigSquared \n",
              " -0.9864974   0.2659707   0.2350055 \n"
            ]
          },
          "metadata": {
            "tags": []
          }
        }
      ]
    },
    {
      "cell_type": "code",
      "metadata": {
        "id": "-hpDtLybuvBR",
        "colab_type": "code",
        "outputId": "de71dcb8-38c6-4a20-ea35-a78005bf8a7d",
        "colab": {
          "base_uri": "https://localhost:8080/",
          "height": 17
        }
      },
      "source": [
        "%%R\n",
        "plot(trauma, (cigSquared + jitter), pch = 19, col = ifelse(mutantLabel==1, \"red\", uclaBlue))\n",
        "hyperplane = function(x){\n",
        "    decisionBoundary = 0.5\n",
        "    const = decisionBoundary - betaHat[1] \n",
        "    return((-betaHat[2]*x + const) / betaHat[3])\n",
        "}\n",
        "curve(hyperplane, from = -.2, to = 1.2, n = 100, add = TRUE) # plot hyperplane\n",
        "box()\n",
        "# logitModel$coefficients[1]\n",
        "\n",
        "pred = predict(logitModel)\n",
        "probs <- exp(pred)/(1+exp(pred)) \n",
        "probs[which(probs>0.5)] = 1\n",
        "probs[which(probs<0.5)] = 0\n",
        "\n",
        "numWrong = 0\n",
        "for(i in 1:length(mutantLabel)){\n",
        "    if(probs[i] != mutantLabel[i]){\n",
        "        numWrong = numWrong + 1\n",
        "    }\n",
        "}\n",
        "cat(\"number of wrong predictions = \", numWrong)\n",
        "\n",
        "# summary(logitModel)"
      ],
      "execution_count": 0,
      "outputs": [
        {
          "output_type": "display_data",
          "data": {
            "text/plain": [
              "number of wrong predictions =  5"
            ]
          },
          "metadata": {
            "tags": []
          }
        },
        {
          "output_type": "display_data",
          "data": {
            "image/png": "[encoded data removed]"
          },
          "metadata": {
            "tags": []
          }
        }
      ]
    },
    {
      "cell_type": "markdown",
      "metadata": {
        "id": "poiRmcfmcn0a",
        "colab_type": "text"
      },
      "source": [
        "To summarize logistic regression: we model the probability of a binary outcome by finding the $\\hat{\\beta}$ that maximize $L(\\beta \\ | \\ X)$. The resulting hyperplane depends on our specific choice of a critical probability."
      ]
    },
    {
      "cell_type": "markdown",
      "metadata": {
        "id": "gFAZSFGz-e8R",
        "colab_type": "text"
      },
      "source": [
        "# Likelihood\n",
        "\n",
        "* What is a likelihood?\n",
        "\n",
        "* What is a function?\n",
        "\n",
        "* What defines a function?\n",
        "\n",
        "A likelihood is the probability of the data given the parameters of the model. The model parameters are the input, whilst the probability of the data is the output.\n",
        "\n",
        "**Ex:**\n",
        "Let's return to the coin flip. Let's flip an unfair coin ten times. We'll let $p$ denote the probability of a heads and declare $p = 0.3$. \n"
      ]
    },
    {
      "cell_type": "code",
      "metadata": {
        "id": "ZGHyZizl_cq5",
        "colab_type": "code",
        "outputId": "938bb3c5-3888-4413-9fda-b89ffdc036ae",
        "colab": {
          "base_uri": "https://localhost:8080/",
          "height": 52
        }
      },
      "source": [
        "%%R\n",
        "set.seed(28)\n",
        "N = 10 # number of coin flips\n",
        "p = 0.3 # probability of heads\n",
        "coin_flips = rbinom(N, 1, p)\n",
        "numHeads = sum(coin_flips)\n",
        "numTails = N - numHeads\n",
        "cat(\"number of heads: \", numHeads) # print the number of heads\n",
        "cat(\"\\nnumber of tails: \", numTails) # print the number of tails"
      ],
      "execution_count": 0,
      "outputs": [
        {
          "output_type": "display_data",
          "data": {
            "text/plain": [
              "number of heads:  4\n",
              "number of tails:  6"
            ]
          },
          "metadata": {
            "tags": []
          }
        }
      ]
    },
    {
      "cell_type": "markdown",
      "metadata": {
        "id": "RUFowdnDAIcm",
        "colab_type": "text"
      },
      "source": [
        "If we toss the coin once the probability of seeing heads is $0.3$.\n",
        "\n",
        "The results of our experiment show that we obtained 4 heads and 6 tails.\n",
        "\n",
        "Since each coin toss does not depend on the previous tosses, the probability of seeing 4 heads and 6 tails (our likelihood) is\n",
        "$$\n",
        "p(\\text{data}) = p(\\text{4 H and 6 T}) = (0.3)^4 (1 - 0.3)^6\n",
        "$$\n",
        "\n",
        "Note: this can be seen by a counting argument for a smaller example, (what are all possible outcomes for a 2 coin toss experiment)?\n",
        "\n",
        "What would be the likelihood of the data if it was a fair coin?\n",
        "\n",
        "Let's visualize the likelihood the way it was meant to be visualized, as a function of the probability of heads.\n"
      ]
    },
    {
      "cell_type": "code",
      "metadata": {
        "id": "dYlQNZIuCd6a",
        "colab_type": "code",
        "outputId": "57cf894c-2be8-48a4-9a58-860975e210b4",
        "colab": {
          "base_uri": "https://localhost:8080/",
          "height": 497
        }
      },
      "source": [
        "%%R\n",
        "coinTossLikelihood = function(p){\n",
        "    likelihood = ((p^numHeads) * ((1-p)^numTails))\n",
        "#     return(log(likelihood))\n",
        "#     return(likelihood)\n",
        "}\n",
        "\n",
        "plot(coinTossLikelihood, 0, 1, xlab = \"p\")\n",
        "arrows(0.4,0,0.4,coinTossLikelihood(0.4), length = 0.05, angle = 90, code = 3, col = uclaBlue)"
      ],
      "execution_count": 0,
      "outputs": [
        {
          "output_type": "display_data",
          "data": {
            "image/png": "[encoded data removed]"
          },
          "metadata": {
            "tags": []
          }
        }
      ]
    },
    {
      "cell_type": "markdown",
      "metadata": {
        "id": "ADEwrOm6FLS-",
        "colab_type": "text"
      },
      "source": [
        "# Paper example\n"
      ]
    },
    {
      "cell_type": "markdown",
      "metadata": {
        "id": "Z6f767YBkJTz",
        "colab_type": "text"
      },
      "source": [
        "# Resources\n",
        "\n",
        "### Math & Stat\n",
        "[Intuitive Biostatistics](http://www.intuitivebiostatistics.com/excerpts/) \n",
        "* [Chapter 1](http://static1.1.sqspcdn.com/static/f/462469/27798351/1515689771813/Motulsky+4e+-+Chapter+1+WM.pdf)\n",
        "\n",
        "[The Matrix Cookbook](https://www.math.uwaterloo.ca/~hwolkowi/matrixcookbook.pdf)\n",
        "\n",
        "[The essence of linear algebra](https://www.youtube.com/watch?v=fNk_zzaMoSs&list=PLZHQObOWTQDPD3MizzM2xVFitgF8hE_ab) (videos)\n",
        "\n",
        "[Visualizing Uncertainty](https://www.scientificamerican.com/article/how-to-get-better-at-embracing-unknowns/), Scientific American\n",
        "\n",
        "\n",
        "[What Statistics can and can't tell us about ourselves](https://www.newyorker.com/magazine/2019/09/09/what-statistics-can-and-cant-tell-us-about-ourselves), The New Yorker\n",
        "\n",
        "[Seeing Theory](https://seeing-theory.brown.edu/index.html), a great resource for visualizing statistics\n",
        "\n",
        "[Find statistical symbols](http://detexify.kirelabs.org/classify.html)\n",
        "\n",
        "### Textbooks\n",
        "[Springer link](https://link.springer.com/) - You can download a large number of free textbooks from this website just by being a UCLA student!\n",
        "\n",
        "## Historical\n",
        "[Francis Galton's works](http://galton.org/bibliography/index.html)\n",
        "\n",
        "___\n",
        "## Good reads\n",
        "[The Dunning-Kruger effect](https://pdfs.semanticscholar.org/e320/9ca64cbed9a441e55568797cbd3683cf7f8c.pdf)\n",
        "\n",
        "[The impostor syndrome](http://mpowir.org/wp-content/uploads/2010/02/Download-IP-in-High-Achieving-Women.pdf)\n"
      ]
    },
    {
      "cell_type": "code",
      "metadata": {
        "id": "0fNFAsxTFXBP",
        "colab_type": "code",
        "colab": {}
      },
      "source": [
        ""
      ],
      "execution_count": 0,
      "outputs": []
    },
    {
      "cell_type": "markdown",
      "metadata": {
        "id": "zT_8J3ciWYMA",
        "colab_type": "text"
      },
      "source": [
        "# Appendix"
      ]
    },
    {
      "cell_type": "markdown",
      "metadata": {
        "id": "RmYKSaJoDL7A",
        "colab_type": "text"
      },
      "source": [
        "## Matrix algebra essentials\n",
        "\n",
        "\n",
        "#### Matrix elements and transpose\n",
        "Matrix $A$ has elements $a_{ij}$. $i$ denotes the row and $j$ denotes the column of the element, e.g.\n",
        "\\begin{equation}\n",
        "    A\n",
        "    =\n",
        "    \\begin{bmatrix}\n",
        "        a_{11} &  a_{12} & a_{13}\\\\\n",
        "        a_{21} & a_{22} & a_{23}\\\\\n",
        "        a_{31} & a_{32} & a_{33}\n",
        "    \\end{bmatrix}\n",
        "\\end{equation}\n",
        "\n",
        "The transpose of a matrix, takes each element $a_{ij}$ and places it in the spot of $a_{ji}$, e.g.\n",
        "\\begin{equation}\n",
        "    A ^T\n",
        "    =\n",
        "    \\begin{bmatrix}\n",
        "        a_{11} &  a_{21} & a_{31}\\\\\n",
        "        a_{12} & a_{22} & a_{23}\\\\\n",
        "        a_{13} & a_{23} & a_{33}\n",
        "    \\end{bmatrix}\n",
        "\\end{equation}\n",
        "Notice that the diagonals remain the same and the off-diagonals switch places. If $A$ and $B$ are matrices then the transpose of their product is:\n",
        "\\begin{equation}\n",
        "(AB) ^T = B ^T A ^T\n",
        "\\end{equation}\n",
        "\n",
        "#### Matrix vector multiplication\n",
        "Multiplying a matrix by a vector means you are taking a linear combination of the columns of the matrix. In other words,\n",
        "\\begin{equation}\n",
        "    \\begin{bmatrix}\n",
        "        1 &  1\\\\\n",
        "        2 & 1\\\\\n",
        "        3 & 1\n",
        "    \\end{bmatrix}\n",
        "    \\begin{bmatrix}\n",
        "        \\beta_1\\\\\n",
        "        \\beta_2\n",
        "    \\end{bmatrix}\n",
        "    =\n",
        "    \\beta_1\n",
        "    \\begin{bmatrix}\n",
        "        1 \\\\\n",
        "        2 \\\\\n",
        "        3\n",
        "    \\end{bmatrix}\n",
        "    +\n",
        "    \\beta_2\n",
        "    \\begin{bmatrix}\n",
        "        1\\\\\n",
        "        1\\\\\n",
        "        1\n",
        "    \\end{bmatrix}\n",
        "\\end{equation}\n",
        "To read more about matrix mulitiplication, see [wikipedia's article on matrix multiplication](https://en.wikipedia.org/wiki/Matrix_multiplication), there are many different perspectives on this single operation!\n",
        "\n",
        "#### The identity matrix: $I$ (multiplying by 1)\n",
        "An identity matrix is a square matrix with $1$s on the diagonal and zeros everywhere else.\n",
        "Multipying any matrix or vector by the appropriately sized identity matrix yields that same matrix or vector, e.g.\n",
        "\\begin{equation}\n",
        "    \\begin{bmatrix}\n",
        "        1 &  1 & 4\\\\\n",
        "        2 & 5 & 3\\\\\n",
        "        3 & 1 & 2\n",
        "    \\end{bmatrix}\n",
        "    \\times\n",
        "    \\underbrace{\n",
        "    \\begin{bmatrix}\n",
        "        1 &  0 & 0\\\\\n",
        "        0 & 1 & 0\\\\\n",
        "        0 & 0 & 1\n",
        "    \\end{bmatrix}\n",
        "    }_{\\text{identity matrix: ``I''}}\n",
        "     =\n",
        "     \\begin{bmatrix}\n",
        "        1 &  1 & 4\\\\\n",
        "        2 & 5 & 3\\\\\n",
        "        3 & 1 & 2\n",
        "    \\end{bmatrix}\n",
        "\\end{equation}\n",
        "\n",
        "#### Inverses\n",
        "A square matrix is a matrix with an equal number of columns and rows.\n",
        "\n",
        "Some square matrices have inverses, e.g., let $A$ be a matrix. If $A$ has an inverse, it will be denoted $A^{-1}$ and satisfy the property $A A^{-1} = A^{-1} A = I$.\n",
        "\n",
        "All matrices $B$ of the form $B = A ^T A$ are invertible.\n",
        "\n"
      ]
    },
    {
      "cell_type": "markdown",
      "metadata": {
        "id": "JLwIM1z6zytp",
        "colab_type": "text"
      },
      "source": [
        "## Least squares optimization\n",
        "\n",
        "Using the matrix algebra facts above, together with rules for differentiation that can be found in [the matrix cookbook](https://www.math.uwaterloo.ca/~hwolkowi/matrixcookbook.pdf) we will derive the $\\hat{\\beta}$ that minimizes the residual sum of squares,\n",
        "\\begin{equation}\n",
        "    \\begin{aligned}\n",
        "\\epsilon ^T \\epsilon\n",
        "&= (y - \\hat{y}) ^T (y - \\hat{y})\\\\\n",
        "&= (y - X \\hat{\\beta}) ^T (y - X \\hat{\\beta}).\n",
        "    \\end{aligned}\n",
        "\\end{equation}\n",
        "To do this, we will take the derivative with respect to $\\hat{\\beta}$.\n",
        "\\begin{equation}\n",
        "\\newcommand{\\gradient}[1]{\\frac{\\partial}{\\partial #1}}\n",
        "    \\begin{aligned}\n",
        "        \\gradient{\\hat{\\beta}} \\epsilon ^T \\epsilon\n",
        "        &=\n",
        "        \\gradient{\\hat{\\beta}} (y - X \\hat{\\beta}) ^T (y - X \\hat{\\beta})\\\\\n",
        "        &= \\gradient{\\hat{\\beta}}\n",
        "        \\left[ y ^T y - 2 y ^T X \\hat{\\beta} + \\hat{\\beta} ^T X ^T X \\hat{\\beta} \\right]\\\\\n",
        "        &= -2 y ^T X + 2 \\hat{\\beta} ^T X ^T X\n",
        "    \\end{aligned}\n",
        "\\end{equation}\n",
        "Setting the derivative equal to zero gives us our estimate, $\\hat{\\beta}$.\n",
        "\\begin{equation}\n",
        "    \\begin{aligned}\n",
        "        - 2y ^T X + 2 \\hat{\\beta} ^T X ^T X\n",
        "        &= 0\\\\\n",
        "        \\hat{\\beta} ^T X ^T X  &= y ^T X\\\\\n",
        "        \\hat{\\beta} ^T = y ^T X (X ^T X )^{-1}\n",
        "    \\end{aligned}\n",
        "\\end{equation}\n",
        "Transposing both sides, we get:\n",
        "\\begin{equation}\n",
        "\\hat{\\beta} = (X ^T X)^{-1} X ^T y\n",
        "\\end{equation}"
      ]
    },
    {
      "cell_type": "markdown",
      "metadata": {
        "id": "Zz6p-dvkkFMF",
        "colab_type": "text"
      },
      "source": [
        "# R coding"
      ]
    },
    {
      "cell_type": "markdown",
      "metadata": {
        "id": "Ibl--w4xzxwT",
        "colab_type": "text"
      },
      "source": [
        ""
      ]
    }
  ]
}